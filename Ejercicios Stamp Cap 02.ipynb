{
 "cells": [
  {
   "cell_type": "markdown",
   "source": [
    "# Ejercicio 4\n",
    "Hallar el Texto Plano y la Llave, dado el Texto Cifrado\n",
    "\n",
    "$$ CSYEVIXIVQMREXIH $$\n",
    "\n",
    "*Pista:* La llave es un shift del alfabeto"
   ],
   "metadata": {
    "collapsed": false
   },
   "id": "b76610df865a1749"
  },
  {
   "cell_type": "code",
   "execution_count": 2,
   "id": "initial_id",
   "metadata": {
    "collapsed": true,
    "ExecuteTime": {
     "end_time": "2024-11-29T21:30:37.469751100Z",
     "start_time": "2024-11-29T21:30:37.394841600Z"
    }
   },
   "outputs": [
    {
     "name": "stdout",
     "output_type": "stream",
     "text": [
      "Llave: 0, Texto: CSYEVIXIVQMREXIH\n",
      "Llave: 1, Texto: BRXDUHWHUPLQDWHG\n",
      "Llave: 2, Texto: AQWCTGVGTOKPCVGF\n",
      "Llave: 3, Texto: ZPVBSFUFSNJOBUFE\n",
      "Llave: 4, Texto: YOUARETERMINATED\n",
      "Llave: 5, Texto: XNTZQDSDQLHMZSDC\n",
      "Llave: 6, Texto: WMSYPCRCPKGLYRCB\n",
      "Llave: 7, Texto: VLRXOBQBOJFKXQBA\n",
      "Llave: 8, Texto: UKQWNAPANIEJWPAZ\n",
      "Llave: 9, Texto: TJPVMZOZMHDIVOZY\n",
      "Llave: 10, Texto: SIOULYNYLGCHUNYX\n",
      "Llave: 11, Texto: RHNTKXMXKFBGTMXW\n",
      "Llave: 12, Texto: QGMSJWLWJEAFSLWV\n",
      "Llave: 13, Texto: PFLRIVKVIDZERKVU\n",
      "Llave: 14, Texto: OEKQHUJUHCYDQJUT\n",
      "Llave: 15, Texto: NDJPGTITGBXCPITS\n",
      "Llave: 16, Texto: MCIOFSHSFAWBOHSR\n",
      "Llave: 17, Texto: LBHNERGREZVANGRQ\n",
      "Llave: 18, Texto: KAGMDQFQDYUZMFQP\n",
      "Llave: 19, Texto: JZFLCPEPCXTYLEPO\n",
      "Llave: 20, Texto: IYEKBODOBWSXKDON\n",
      "Llave: 21, Texto: HXDJANCNAVRWJCNM\n",
      "Llave: 22, Texto: GWCIZMBMZUQVIBML\n",
      "Llave: 23, Texto: FVBHYLALYTPUHALK\n",
      "Llave: 24, Texto: EUAGXKZKXSOTGZKJ\n",
      "Llave: 25, Texto: DTZFWJYJWRNSFYJI\n"
     ]
    }
   ],
   "source": [
    "# Definimos el texto cifrado\n",
    "texto_cifrado = 'CSYEVIXIVQMREXIH'\n",
    "\n",
    "# Definimos el alfabeto\n",
    "alfabeto = 'ABCDEFGHIJKLMNOPQRSTUVWXYZ'\n",
    "\n",
    "# Definimos una función para desencriptar el texto\n",
    "def desencriptar(texto_cifrado, llave):\n",
    "    texto_plano = ''\n",
    "    for letra in texto_cifrado:\n",
    "        if letra in alfabeto:\n",
    "            indice = alfabeto.index(letra)\n",
    "            texto_plano += alfabeto[(indice - llave) % len(alfabeto)]\n",
    "        else:\n",
    "            texto_plano += letra\n",
    "    return texto_plano\n",
    "    \n",
    "# Probamos con todas las llaves posibles\n",
    "for llave in range(0, len(alfabeto)):\n",
    "    texto_plano = desencriptar(texto_cifrado, llave)\n",
    "    print(f'Llave: {llave}, Texto: {texto_plano}')"
   ]
  },
  {
   "cell_type": "code",
   "execution_count": 3,
   "outputs": [
    {
     "name": "stdout",
     "output_type": "stream",
     "text": [
      "Texto cifrado: CSYEVIXIVQMREXIH\n",
      "Llave: 4\n",
      "Texto plano: YOUARETERMINATED\n"
     ]
    }
   ],
   "source": [
    "print('Texto cifrado:', texto_cifrado)\n",
    "print('Llave:', 4)\n",
    "print('Texto plano:', desencriptar(texto_cifrado, 4))"
   ],
   "metadata": {
    "collapsed": false,
    "ExecuteTime": {
     "end_time": "2024-11-29T21:30:37.471765600Z",
     "start_time": "2024-11-29T21:30:37.401726600Z"
    }
   },
   "id": "46fd3391a0141885"
  },
  {
   "cell_type": "markdown",
   "source": [
    "## Conclusión\n",
    "Por inspección, la llave es $4$ y el texto plano es $YOUARETERMINATED$."
   ],
   "metadata": {
    "collapsed": false
   },
   "id": "6841747bc41d0d14"
  },
  {
   "cell_type": "markdown",
   "source": [
    "# Ejercicio 9\n",
    "\n",
    "Recuperar Texto Plano y Llave de un Cifrado por Sustitución Simple del Texto Cifrado:\n",
    "\n",
    "$$ PBFPVYFBQXZTYFPBFEQJHDXXQVAPTPQJKTOYQWIPBVWLXTOXBTFXQWA $$\n",
    "$$ XBVCXQWAXFQJVWLEQNTOZQGGQLFXQWAKVWLXQWAEBIPBFXFQVXGTVJV $$\n",
    "$$ WLBTPQWAEBFPBFHCVLXBQUFEVWLXGDPEQVPQGVPPBFTIXPFHXZHVFAG $$\n",
    "$$ FOTHFEFBQUFTDHZBQPOTHXTYFTODXQHFTDPTOGHFQPBQWAQJJTODXQH $$\n",
    "$$ FOQPWTBDHHIXQVAPBFZQHCFWPFHPBFIPBQWKFABVYYDZBOTHPBQPQJT $$\n",
    "$$ QOTOGHFQAPBFEQJHDXXQVAVXEBQPEFZBVFOJIWFFACFCCFHQWAUVWFL $$\n",
    "$$ QHGFXVAFXQHFUFHILTTAVWAFFAWTEVOITDHFHFQAITIXPFHXAFQHEFZ $$\n",
    "$$ QWGFLVWPTOFFA $$\n",
    "\n",
    "Podemos solucionarlo mediante análisis de frecuencias"
   ],
   "metadata": {
    "collapsed": false
   },
   "id": "53e55f22c1d65c5"
  },
  {
   "cell_type": "code",
   "execution_count": 4,
   "outputs": [
    {
     "data": {
      "text/plain": "<Figure size 1000x500 with 1 Axes>",
      "image/png": "[encoded data removed]"
     },
     "metadata": {},
     "output_type": "display_data"
    }
   ],
   "source": [
    "import matplotlib.pyplot as plt\n",
    "from collections import Counter\n",
    "\n",
    "# Definimos el texto cifrado\n",
    "texto_cifrado = 'PBFPVYFBQXZTYFPBFEQJHDXXQVAPTPQJKTOYQWIPBVWLXTOXBTFXQWAXBVCXQWAXFQJVWLEQNTOZQGGQLFXQWAKVWLXQWAEBIPBFXFQVXGTVJVWLBTPQWAEBFPBFHCVLXBQUFEVWLXGDPEQVPQGVPPBFTIXPFHXZHVFAGFOTHFEFBQUFTDHZBQPOTHXTYFTODXQHFTDPTOGHFQPBQWAQJJTODXQHFOQPWTBDHHIXQVAPBFZQHCFWPFHPBFIPBQWKFABVYYDZBOTHPBQPQJTQOTOGHFQAPBFEQJHDXXQVAVXEBQPEFZBVFOJIWFFACFCCFHQWAUVWFLQHGFXVAFXQHFUFHILTTAVWAFFAWTEVOITDHFHFQAITIXPFHXAFQHEFZQWGFLVWPTOFFA'\n",
    "\n",
    "# Definir la frecuencia de las letras en el idioma inglés\n",
    "frecuencias_ingles = {\n",
    "    'A': 8.000395, 'B': 1.535701, 'C': 2.575785, 'D': 4.317924, 'E': 12.575645,\n",
    "    'F': 2.350463, 'G': 1.982677, 'H': 6.236609, 'I': 6.920007, 'J': 0.145188,\n",
    "    'K': 0.739906, 'L': 4.057231, 'M': 2.560994, 'N': 6.903785, 'O': 7.591270,\n",
    "    'P': 1.795742, 'Q': 0.117571, 'R': 5.959034, 'S': 6.340880, 'T': 9.085226,\n",
    "    'U': 2.841783, 'V': 0.981717, 'W': 2.224893, 'X': 0.179556, 'Y': 1.900888,\n",
    "    'Z': 0.079130\n",
    "}\n",
    "\n",
    "# Definir una función para calcular la frecuencia de los n-gramas\n",
    "def contar_ngramas(texto, n):\n",
    "    ngramas = [texto[i:i+n] for i in range(len(texto) - n + 1)]\n",
    "    ngramas_frecuencia = Counter(ngramas)\n",
    "    return ngramas_frecuencia\n",
    "\n",
    "# Hallar las frecuencias de las letras\n",
    "frecuencias_letras = contar_ngramas(texto_cifrado, 1)\n",
    "\n",
    "# Calcular la frecuencia de las letras en el texto cifrado\n",
    "frecuencias_letras = dict(sorted(frecuencias_letras.items()))\n",
    "frecuencias_letras = {k: v / len(texto_cifrado) * 100 for k, v in frecuencias_letras.items()}\n",
    "frecuencias_letras = dict(sorted(frecuencias_letras.items()))\n",
    "\n",
    "# Plotear las frecuencias de las letras en el texto cifrado\n",
    "plt.figure(figsize=(10, 5))\n",
    "plt.bar(frecuencias_letras.keys(), frecuencias_letras.values())\n",
    "plt.xlabel('Letras')\n",
    "plt.ylabel('Frecuencia (%)')\n",
    "plt.title('Frecuencia de las letras en el texto cifrado')\n",
    "plt.show()"
   ],
   "metadata": {
    "collapsed": false,
    "ExecuteTime": {
     "end_time": "2024-11-29T21:30:38.805460300Z",
     "start_time": "2024-11-29T21:30:37.412276100Z"
    }
   },
   "id": "d0de2a05fb472395"
  },
  {
   "cell_type": "markdown",
   "source": [
    "Ya tenemos las frecuencias de las letras en nuestro texto. Ahora, vamos a compararlas con las frecuencias de las letras en el idioma inglés."
   ],
   "metadata": {
    "collapsed": false
   },
   "id": "cdc3dfef2732bbb5"
  },
  {
   "cell_type": "code",
   "execution_count": 5,
   "outputs": [
    {
     "name": "stdout",
     "output_type": "stream",
     "text": [
      "Texto Cifrado   Frecuencia (%)            Idioma          Frecuencia (%)\n",
      "---------------------------------------------------------------------------\n",
      "F               12.81                     E               12.575645\n",
      "Q               10.55                     T               9.085226\n",
      "P               7.04                      A               8.000395\n",
      "X               7.04                      O               7.59127\n",
      "T               6.78                      I               6.920007\n",
      "B               6.53                      N               6.903785\n",
      "H               6.28                      S               6.34088\n",
      "V               6.03                      H               6.236609\n",
      "W               5.53                      R               5.959034\n",
      "A               5.28                      D               4.317924\n",
      "O               3.77                      L               4.057231\n",
      "E               3.02                      U               2.841783\n",
      "D               2.51                      C               2.575785\n",
      "G               2.51                      M               2.560994\n",
      "I               2.51                      F               2.350463\n",
      "L               2.51                      W               2.224893\n",
      "J               2.26                      G               1.982677\n",
      "Z               2.01                      Y               1.900888\n",
      "C               1.51                      P               1.795742\n",
      "Y               1.51                      B               1.535701\n",
      "U               1.01                      V               0.981717\n",
      "K               0.75                      K               0.739906\n",
      "N               0.25                      X               0.179556\n"
     ]
    }
   ],
   "source": [
    "# Definir función que imprima en orden descendente n frecuencias del texto cifrado y del idioma inglés\n",
    "def imprimir_frecuencias(frecuencias_texto, frecuencias_idioma, n):\n",
    "    # Ordenar las frecuencias del texto cifrado\n",
    "    frecuencias_texto = sorted(frecuencias_texto.items(), key=lambda item: item[1], reverse=True)[:n]\n",
    "    # Ordenar las frecuencias del idioma inglés\n",
    "    frecuencias_idioma = sorted(frecuencias_idioma.items(), key=lambda item: item[1], reverse=True)[:n]\n",
    "    \n",
    "    print(f\"{'Texto Cifrado':<15} {'Frecuencia (%)':<25} {'Idioma':<15} {'Frecuencia (%)'}\")\n",
    "    print('-' * 75)\n",
    "    \n",
    "    for i in range(min(n, len(frecuencias_texto), len(frecuencias_idioma))):\n",
    "        textocrifrado, textocifrado_frec = frecuencias_texto[i]\n",
    "        textoingles, textoingles_frec = frecuencias_idioma[i]\n",
    "        \n",
    "        print(f\"{textocrifrado:<15} {textocifrado_frec:<25.2f} {textoingles:<15} {textoingles_frec}\")\n",
    "        \n",
    "# Imprimir las frecuencias de las letras en el texto cifrado y en el idioma inglés\n",
    "imprimir_frecuencias(frecuencias_letras, frecuencias_ingles, 26)"
   ],
   "metadata": {
    "collapsed": false,
    "ExecuteTime": {
     "end_time": "2024-11-29T21:30:38.815241600Z",
     "start_time": "2024-11-29T21:30:38.808473Z"
    }
   },
   "id": "6366919556ae0122"
  },
  {
   "cell_type": "markdown",
   "source": [
    "Ahora realicemos el análisis con los bigramas, trigramas y cuatrigramas.\n"
   ],
   "metadata": {
    "collapsed": false
   },
   "id": "623423b3e3ef2dbb"
  },
  {
   "cell_type": "code",
   "execution_count": 6,
   "outputs": [
    {
     "name": "stdout",
     "output_type": "stream",
     "text": [
      "Texto Cifrado   Frecuencia (%)            Idioma          Frecuencia (%)\n",
      "---------------------------------------------------------------------------\n",
      "PB              3.02                      TH              3.882543\n",
      "QW              2.51                      HE              3.681391\n",
      "XQ              2.51                      IN              2.283899\n",
      "BF              2.26                      ER              2.178042\n",
      "BQ              2.01                      AN              2.14046\n",
      "HF              2.01                      RE              1.749394\n",
      "TO              2.01                      ND              1.571977\n",
      "VW              2.01                      ON              1.418244\n",
      "WA              2.01                      EN              1.383239\n",
      "FH              1.76                      AT              1.335523\n",
      "FQ              1.51                      OU              1.285484\n",
      "QH              1.51                      ED              1.275779\n",
      "QJ              1.51                      HA              1.274742\n",
      "FA              1.26                      TO              1.169655\n",
      "FX              1.26                      OR              1.151094\n"
     ]
    }
   ],
   "source": [
    "# Hallar las frecuencias de los bigramas\n",
    "bigrams_ingles = {\n",
    "    'TH': 3.882543, 'HE': 3.681391, 'IN': 2.283899, 'ER': 2.178042, 'AN': 2.140460,\n",
    "    'RE': 1.749394, 'ND': 1.571977, 'ON': 1.418244, 'EN': 1.383239, 'AT': 1.335523,\n",
    "    'OU': 1.285484, 'ED': 1.275779, 'HA': 1.274742, 'TO': 1.169655, 'OR': 1.151094,\n",
    "    'IT': 1.134891, 'IS': 1.109877, 'HI': 1.092302, 'ES': 1.092301, 'NG': 1.053385\n",
    "}\n",
    "\n",
    "texto_cifrado_bigrams = contar_ngramas(texto_cifrado, 2)\n",
    "\n",
    "# Calcular la frecuencia de los bigramas en el texto cifrado\n",
    "texto_cifrado_bigrams = dict(sorted(texto_cifrado_bigrams.items()))\n",
    "texto_cifrado_bigrams = {k: v / len(texto_cifrado) * 100 for k, v in texto_cifrado_bigrams.items()}\n",
    "texto_cifrado_bigrams = dict(sorted(texto_cifrado_bigrams.items()))\n",
    "\n",
    "# Imprimir las frecuencias de los bigramas en el texto cifrado y en el idioma inglés\n",
    "imprimir_frecuencias(texto_cifrado_bigrams, bigrams_ingles, 15)"
   ],
   "metadata": {
    "collapsed": false,
    "ExecuteTime": {
     "end_time": "2024-11-29T21:30:38.823280400Z",
     "start_time": "2024-11-29T21:30:38.816252Z"
    }
   },
   "id": "5b36cee345eb3124"
  },
  {
   "cell_type": "code",
   "execution_count": 19,
   "outputs": [
    {
     "name": "stdout",
     "output_type": "stream",
     "text": [
      "Texto Cifrado   Frecuencia (%)            Idioma          Frecuencia (%)\n",
      "---------------------------------------------------------------------------\n",
      "PBF             2.01                      THE             3.508232\n",
      "QWA             1.76                      AND             1.593878\n",
      "VWL             1.26                      ING             1.147042\n",
      "XQW             1.01                      HER             0.822444\n",
      "BQP             0.75                      HAT             0.650715\n",
      "FFA             0.75                      HIS             0.596748\n",
      "FXQ             0.75                      THA             0.593593\n",
      "HFQ             0.75                      ERE             0.560594\n",
      "IPB             0.75                      FOR             0.555372\n",
      "OTH             0.75                      ENT             0.530771\n",
      "PBQ             0.75                      ION             0.506454\n",
      "PFH             0.75                      TER             0.461099\n",
      "QHF             0.75                      WAS             0.460487\n",
      "QVA             0.75                      YOU             0.437213\n",
      "WLX             0.75                      ITH             0.43125\n",
      "XQH             0.75                      VER             0.430732\n",
      "XQV             0.75                      ALL             0.422758\n",
      "AEB             0.50                      WIT             0.39729\n",
      "APB             0.50                      THI             0.394796\n",
      "BFE             0.50                      TIO             0.378058\n"
     ]
    }
   ],
   "source": [
    "# Hallar las frecuencias de los trigramas\n",
    "trigramas_ingles = {\n",
    "    'THE': 3.508232,\n",
    "    'AND': 1.593878,\n",
    "    'ING': 1.147042,\n",
    "    'HER': 0.822444,\n",
    "    'HAT': 0.650715,\n",
    "    'HIS': 0.596748,\n",
    "    'THA': 0.593593,\n",
    "    'ERE': 0.560594,\n",
    "    'FOR': 0.555372,\n",
    "    'ENT': 0.530771,\n",
    "    'ION': 0.506454,\n",
    "    'TER': 0.461099,\n",
    "    'WAS': 0.460487,\n",
    "    'YOU': 0.437213,\n",
    "    'ITH': 0.431250,\n",
    "    'VER': 0.430732,\n",
    "    'ALL': 0.422758,\n",
    "    'WIT': 0.397290,\n",
    "    'THI': 0.394796,\n",
    "    'TIO': 0.378058\n",
    "}\n",
    "\n",
    "texto_cifrado_trigrams = contar_ngramas(texto_cifrado, 3)\n",
    "\n",
    "# Calcular la frecuencia de los trigramas en el texto cifrado\n",
    "texto_cifrado_trigrams = dict(sorted(texto_cifrado_trigrams.items()))\n",
    "texto_cifrado_trigrams = {k: v / len(texto_cifrado) * 100 for k, v in texto_cifrado_trigrams.items()}\n",
    "texto_cifrado_trigrams = dict(sorted(texto_cifrado_trigrams.items()))\n",
    "\n",
    "# Imprimir las frecuencias de los trigramas en el texto cifrado y en el idioma inglés\n",
    "imprimir_frecuencias(texto_cifrado_trigrams, trigramas_ingles, 20)\n"
   ],
   "metadata": {
    "collapsed": false,
    "ExecuteTime": {
     "end_time": "2024-11-29T21:49:23.068796300Z",
     "start_time": "2024-11-29T21:49:23.057605400Z"
    }
   },
   "id": "5b1ab70dc9157c96"
  },
  {
   "cell_type": "code",
   "execution_count": 8,
   "outputs": [
    {
     "name": "stdout",
     "output_type": "stream",
     "text": [
      "Texto Cifrado   Frecuencia (%)            Idioma          Frecuencia (%)\n",
      "---------------------------------------------------------------------------\n",
      "XQWA            1.01                      THAT            0.761242\n",
      "VWLX            0.75                      THER            0.604501\n",
      "XQHF            0.75                      WITH            0.573866\n",
      "XQVA            0.75                      TION            0.551919\n",
      "APBF            0.50                      HERE            0.374549\n",
      "BFEQ            0.50                      OULD            0.36992\n",
      "BQUF            0.50                      IGHT            0.30944\n",
      "DXQH            0.50                      HAVE            0.290544\n",
      "DXXQ            0.50                      HICH            0.284292\n",
      "EQJH            0.50                      WHIC            0.283826\n",
      "FEQJ            0.50                      THIS            0.276333\n",
      "FPBF            0.50                      THIN            0.270413\n",
      "FXQW            0.50                      THEY            0.262421\n",
      "GHFQ            0.50                      ATIO            0.262386\n",
      "HDXX            0.50                      EVER            0.260695\n",
      "HFQA            0.50                      FROM            0.25858\n",
      "IXPF            0.50                      OUGH            0.253447\n",
      "JHDX            0.50                      WERE            0.231089\n",
      "JVWL            0.50                      HING            0.229944\n"
     ]
    }
   ],
   "source": [
    "# Hallar las frecuencias de los cuatrigramas\n",
    "cuatrigramas_ingles = {\n",
    "    \"THAT\": 0.761242,\n",
    "    \"THER\": 0.604501,\n",
    "    \"WITH\": 0.573866,\n",
    "    \"TION\": 0.551919,\n",
    "    \"HERE\": 0.374549,\n",
    "    \"OULD\": 0.369920,\n",
    "    \"IGHT\": 0.309440,\n",
    "    \"HAVE\": 0.290544,\n",
    "    \"HICH\": 0.284292,\n",
    "    \"WHIC\": 0.283826,\n",
    "    \"THIS\": 0.276333,\n",
    "    \"THIN\": 0.270413,\n",
    "    \"THEY\": 0.262421,\n",
    "    \"ATIO\": 0.262386,\n",
    "    \"EVER\": 0.260695,\n",
    "    \"FROM\": 0.258580,\n",
    "    \"OUGH\": 0.253447,\n",
    "    \"WERE\": 0.231089,\n",
    "    \"HING\": 0.229944\n",
    "}\n",
    "\n",
    "# Contar los cuatrigramas en el texto cifrado\n",
    "texto_cifrado_cuatrigrams = contar_ngramas(texto_cifrado, 4)\n",
    "\n",
    "# Calcular la frecuencia de los cuatrigramas en el texto cifrado\n",
    "texto_cifrado_cuatrigrams = dict(sorted(texto_cifrado_cuatrigrams.items()))\n",
    "texto_cifrado_cuatrigrams = {k: v / len(texto_cifrado) * 100 for k, v in texto_cifrado_cuatrigrams.items()}\n",
    "texto_cifrado_cuatrigrams = dict(sorted(texto_cifrado_cuatrigrams.items()))\n",
    "\n",
    "# Imprimir las frecuencias de los cuatrigramas en el texto cifrado y en el idioma inglés\n",
    "imprimir_frecuencias(texto_cifrado_cuatrigrams, cuatrigramas_ingles, 20)"
   ],
   "metadata": {
    "collapsed": false,
    "ExecuteTime": {
     "end_time": "2024-11-29T21:30:38.982114Z",
     "start_time": "2024-11-29T21:30:38.835738Z"
    }
   },
   "id": "6878abcdde154dde"
  },
  {
   "cell_type": "markdown",
   "source": [
    "Luego de revisar estos análisis de frecuencias, supongamos primero que:\n",
    "- $F \\rightarrow e$\n",
    "- $Q \\rightarrow t$\n",
    "- $P \\rightarrow a$\n",
    "- $N \\rightarrow x$\n",
    "- $K \\rightarrow k$\n",
    "- $U \\rightarrow v$\n",
    "\n",
    "Las cuales corresponden a las primeras y las últimas letras con mayor frecuencia en el texto cifrado. Ahora, vamos a realizar un análisis de frecuencias de las letras en el texto cifrado, pero con las letras $F$, $Q$, $P$, $N$, $K$ y $U$ reemplazadas por $e$, $t$, $a$, $x$, $k$ y $v$, respectivamente."
   ],
   "metadata": {
    "collapsed": false
   },
   "id": "5b0f53aa79b32e07"
  },
  {
   "cell_type": "code",
   "execution_count": 9,
   "outputs": [
    {
     "name": "stdout",
     "output_type": "stream",
     "text": [
      "a.ea..e.t....ea.e.t.....t..a.at.k...t..a..........e.t.......t...et.....tx...t..t.e.t..k....t.....a.e.et...........at....ea.e......tve.......a.t.at..aa.e...ae.....e..e...e.e.tve.....ta......e....t.e..a....eta.t..t......t.e.ta........t..a.e.t..e.ae.a.e.a.t.ke...........a.tat..t.....et.a.e.t.....t......ta.e...e....ee..e..e.t..v..e.t..e...e.t.eve.........ee..........e.et.....ae...et..e.t..e...a..ee.\n"
     ]
    }
   ],
   "source": [
    "# Definir un diccionario con las letras reemplazadas\n",
    "reemplazos = {\n",
    "    'F': 'e',\n",
    "    'Q': 't',\n",
    "    'P': 'a',\n",
    "    'N': 'x',\n",
    "    'K': 'k',\n",
    "    'U': 'v'\n",
    "}\n",
    "\n",
    "# Reemplazar las letras en el texto cifrado\n",
    "texto_cifrado_reemplazado = ''.join([reemplazos[letra] if letra in reemplazos else '.' for letra in texto_cifrado])\n",
    "\n",
    "# Imprimir como se ve el texto cifrado reemplazado\n",
    "print(texto_cifrado_reemplazado)"
   ],
   "metadata": {
    "collapsed": false,
    "ExecuteTime": {
     "end_time": "2024-11-29T21:30:38.982114Z",
     "start_time": "2024-11-29T21:30:38.846599600Z"
    }
   },
   "id": "efed9e2fe96b5080"
  },
  {
   "cell_type": "markdown",
   "source": [
    "Sin embargo, parece ser que la primer letra está incorrecta, además, revisando un poco el análisis con los bigramas y trigramas, podemos ver que:\n",
    "- $PB \\rightarrow th$\n",
    "- $PBF \\rightarrow the$\n",
    "\n",
    "Por lo que nuestra primer hipótesis estaba un poco errónea, modifiquémosla a:\n",
    "- $P \\rightarrow t$\n",
    "- $B \\rightarrow h$\n",
    "- $F \\rightarrow e$\n",
    "- $Q \\rightarrow a$\n",
    "- $N \\rightarrow x$\n",
    "- $K \\rightarrow k$\n",
    "- $U \\rightarrow v$"
   ],
   "metadata": {
    "collapsed": false
   },
   "id": "3ad0e922a3f7dbfa"
  },
  {
   "cell_type": "code",
   "execution_count": 10,
   "outputs": [
    {
     "name": "stdout",
     "output_type": "stream",
     "text": [
      "thet..eha....ethe.a.....a..t.ta.k...a..th.......h.e.a...h...a...ea.....ax...a..a.e.a..k....a...h.the.ea.........h.ta...hethe.....have.......t.a.ta..tthe...te.....e..e...e.ehave....hat......e....a.e..t....eatha..a......a.e.at..h.....a..the.a..e.te.the.tha.ke.h.....h...thata..a.....ea.the.a.....a.....hat.e.h.e....ee..e..e.a..v..e.a..e...e.a.eve.........ee..........e.ea.....te...ea..e.a..e...t..ee.\n"
     ]
    }
   ],
   "source": [
    "# Definir un diccionario con las letras reemplazadas\n",
    "reemplazos = {\n",
    "    'P': 't',\n",
    "    'B': 'h',\n",
    "    'F': 'e',\n",
    "    'Q': 'a',\n",
    "    'N': 'x',\n",
    "    'K': 'k',\n",
    "    'U': 'v'\n",
    "}\n",
    "\n",
    "# Reemplazar las letras en el texto cifrado\n",
    "texto_cifrado_reemplazado = ''.join([reemplazos[letra] if letra in reemplazos else '.' for letra in texto_cifrado])\n",
    "\n",
    "# Imprimir como se ve el texto cifrado reemplazado\n",
    "print(texto_cifrado_reemplazado)"
   ],
   "metadata": {
    "collapsed": false,
    "ExecuteTime": {
     "end_time": "2024-11-29T21:30:38.983113Z",
     "start_time": "2024-11-29T21:30:38.854350900Z"
    }
   },
   "id": "1cdf58c51a09a670"
  },
  {
   "cell_type": "markdown",
   "source": [
    "Podemos ver que la primera letra parece ser \"$the$\", por lo que nuestra hipótesis parece ser correcta (a esto llega el ejemplo).\n",
    "\n",
    "Por los trigramas, podríamos suponer que: $QWA \\rigtharrow and, veamos:"
   ],
   "metadata": {
    "collapsed": false
   },
   "id": "211e1b62a79ba73"
  },
  {
   "cell_type": "code",
   "execution_count": 11,
   "outputs": [
    {
     "name": "stdout",
     "output_type": "stream",
     "text": [
      "thet..eh.....ethe..........t.t.........th.......h.e.....h.......e................e.............h.the.e..........h.t....hethe.....h..e.......t...t...tthe...te.....e..e...e.eh..e....h.t......e......e..t....e.th............e..t..h........the....e.te.the.th...e.h.....h...th.t.........e..the.............h.t.e.h.e....ee..e..e.......e....e...e...e.e.........ee..........e.e......te...e...e....e...t..ee.\n"
     ]
    }
   ],
   "source": [
    "# Veamos primero la palabra que tenemos segura\n",
    "reemplazos = {\n",
    "    'P': 't',\n",
    "    'B': 'h',\n",
    "    'F': 'e'\n",
    "}\n",
    "\n",
    "# Reemplazar las letras en el texto cifrado\n",
    "texto_cifrado_reemplazado = ''.join([reemplazos[letra] if letra in reemplazos else '.' for letra in texto_cifrado])\n",
    "\n",
    "# Imprimir como se ve el texto cifrado reemplazado\n",
    "print(texto_cifrado_reemplazado)"
   ],
   "metadata": {
    "collapsed": false,
    "ExecuteTime": {
     "end_time": "2024-11-29T21:30:38.983113Z",
     "start_time": "2024-11-29T21:30:38.862306300Z"
    }
   },
   "id": "4dd0cda0506d34f3"
  },
  {
   "cell_type": "code",
   "execution_count": 12,
   "outputs": [
    {
     "name": "stdout",
     "output_type": "stream",
     "text": [
      "thet..eha....ethe.a.....a.dt.ta.k...an.th.n.....h.e.and.h...and.ea..n..ax...a..a.e.andk.n..and.h.the.ea.......n.h.tand.hethe.....have..n....t.a.ta..tthe...te.....ed.e...e.ehave....hat......e....a.e..t....eathanda......a.e.atn.h.....a.dthe.a..ente.the.thankedh.....h...thata..a.....eadthe.a.....a.d...hat.e.h.e...need.e..e.andv.ne.a..e..de.a.eve.....d.ndeedn........e.ead....te..dea..e.an.e..nt..eed\n"
     ]
    }
   ],
   "source": [
    "# Definir un diccionario con las letras reemplazadas\n",
    "reemplazos = {\n",
    "    'P': 't',\n",
    "    'B': 'h',\n",
    "    'F': 'e',\n",
    "    'Q': 'a',\n",
    "    'N': 'x',\n",
    "    'K': 'k',\n",
    "    'U': 'v',\n",
    "    'W': 'n',\n",
    "    'A': 'd'\n",
    "}\n",
    "\n",
    "# Reemplazar las letras en el texto cifrado\n",
    "texto_cifrado_reemplazado = ''.join([reemplazos[letra] if letra in reemplazos else '.' for letra in texto_cifrado])\n",
    "\n",
    "# Imprimir como se ve el texto cifrado reemplazado\n",
    "print(texto_cifrado_reemplazado)"
   ],
   "metadata": {
    "collapsed": false,
    "ExecuteTime": {
     "end_time": "2024-11-29T21:30:38.983113Z",
     "start_time": "2024-11-29T21:30:38.868828200Z"
    }
   },
   "id": "bc95137f99c5745f"
  },
  {
   "cell_type": "markdown",
   "source": [
    "Por los trigramas, podríamos suponer que $VWL \\rightarrow ing$, veamos:"
   ],
   "metadata": {
    "collapsed": false
   },
   "id": "2b57afe68249dd10"
  },
  {
   "cell_type": "code",
   "execution_count": 13,
   "outputs": [
    {
     "name": "stdout",
     "output_type": "stream",
     "text": [
      "theti.eha....ethe.a.....aidt.ta.k...an.thing....h.e.and.hi..and.ea.ing.ax...a..age.andking.and.h.the.eai...i.ingh.tand.hethe..ig.have.ing...t.aita.itthe...te....ied.e...e.ehave....hat......e....a.e..t....eathanda......a.e.atn.h.....aidthe.a..ente.the.thankedhi....h...thata..a.....eadthe.a.....aidi..hat.e.hie...need.e..e.andvinega..e.ide.a.eve..g..dindeedn..i.....e.ead....te..dea..e.an.egint..eed\n"
     ]
    }
   ],
   "source": [
    "# Definir un diccionario con las letras reemplazadas\n",
    "reemplazos = {\n",
    "    'P': 't',\n",
    "    'B': 'h',\n",
    "    'F': 'e',\n",
    "    'Q': 'a',\n",
    "    'N': 'x',\n",
    "    'K': 'k',\n",
    "    'U': 'v',\n",
    "    'W': 'n',\n",
    "    'A': 'd',\n",
    "    'V': 'i',\n",
    "    'L': 'g'\n",
    "}\n",
    "\n",
    "# Reemplazar las letras en el texto cifrado\n",
    "texto_cifrado_reemplazado = ''.join([reemplazos[letra] if letra in reemplazos else '.' for letra in texto_cifrado])\n",
    "\n",
    "# Imprimir como se ve el texto cifrado reemplazado\n",
    "print(texto_cifrado_reemplazado)"
   ],
   "metadata": {
    "collapsed": false,
    "ExecuteTime": {
     "end_time": "2024-11-29T21:30:38.984113600Z",
     "start_time": "2024-11-29T21:30:38.876783200Z"
    }
   },
   "id": "d969f1a1a66de555"
  },
  {
   "cell_type": "markdown",
   "source": [
    "Supongamos que la segunda palabra es \"time\", por lo que:"
   ],
   "metadata": {
    "collapsed": false
   },
   "id": "3c6494e4158ed1fb"
  },
  {
   "cell_type": "code",
   "execution_count": 14,
   "outputs": [
    {
     "name": "stdout",
     "output_type": "stream",
     "text": [
      "thetimeha...methe.a.....aidt.ta.k..man.thing....h.e.and.hi..and.ea.ing.ax...a..age.andking.and.h.the.eai...i.ingh.tand.hethe..ig.have.ing...t.aita.itthe...te....ied.e...e.ehave....hat.....me....a.e..t....eathanda......a.e.atn.h.....aidthe.a..ente.the.thankedhimm..h...thata..a.....eadthe.a.....aidi..hat.e.hie...need.e..e.andvinega..e.ide.a.eve..g..dindeedn..i.....e.ead....te..dea..e.an.egint..eed\n"
     ]
    }
   ],
   "source": [
    "# Definir un diccionario con las letras reemplazadas\n",
    "reemplazos = {\n",
    "    'P': 't',\n",
    "    'B': 'h',\n",
    "    'F': 'e',\n",
    "    'Q': 'a',\n",
    "    'N': 'x',\n",
    "    'K': 'k',\n",
    "    'U': 'v',\n",
    "    'W': 'n',\n",
    "    'A': 'd',\n",
    "    'V': 'i',\n",
    "    'L': 'g',\n",
    "    'Y': 'm'\n",
    "}\n",
    "\n",
    "# Reemplazar las letras en el texto cifrado\n",
    "texto_cifrado_reemplazado = ''.join([reemplazos[letra] if letra in reemplazos else '.' for letra in texto_cifrado])\n",
    "\n",
    "# Imprimir como se ve el texto cifrado reemplazado\n",
    "print(texto_cifrado_reemplazado)"
   ],
   "metadata": {
    "collapsed": false,
    "ExecuteTime": {
     "end_time": "2024-11-29T21:32:52.097465700Z",
     "start_time": "2024-11-29T21:32:52.090140400Z"
    }
   },
   "id": "bc8a268c7f7ad037"
  },
  {
   "cell_type": "markdown",
   "source": [
    "Podría tener sentido, supongamos ahora que la tercer palabra es \"has\", por lo que:"
   ],
   "metadata": {
    "collapsed": false
   },
   "id": "8b008a07b9fea02a"
  },
  {
   "cell_type": "code",
   "execution_count": 15,
   "outputs": [
    {
     "name": "stdout",
     "output_type": "stream",
     "text": [
      "thetimehas..methe.a...ssaidt.ta.k..man.things..sh.esandshi.sandsea.ing.ax...a..agesandkingsand.h.theseais..i.ingh.tand.hethe..igshave.ings..t.aita.itthe..ste.s..ied.e...e.ehave....hat...s.me...sa.e..t....eathanda.....sa.e.atn.h....saidthe.a..ente.the.thankedhimm..h...thata..a.....eadthe.a...ssaidis.hat.e.hie...need.e..e.andvinega..esidesa.eve..g..dindeedn..i.....e.ead...ste.sdea..e.an.egint..eed\n"
     ]
    }
   ],
   "source": [
    "# Definir un diccionario con las letras reemplazadas\n",
    "reemplazos = {\n",
    "    'P': 't',\n",
    "    'B': 'h',\n",
    "    'F': 'e',\n",
    "    'Q': 'a',\n",
    "    'N': 'x',\n",
    "    'K': 'k',\n",
    "    'U': 'v',\n",
    "    'W': 'n',\n",
    "    'A': 'd',\n",
    "    'V': 'i',\n",
    "    'L': 'g',\n",
    "    'Y': 'm',\n",
    "    'X': 's'\n",
    "}\n",
    "\n",
    "# Reemplazar las letras en el texto cifrado\n",
    "texto_cifrado_reemplazado = ''.join([reemplazos[letra] if letra in reemplazos else '.' for letra in texto_cifrado])\n",
    "\n",
    "# Imprimir como se ve el texto cifrado reemplazado\n",
    "print(texto_cifrado_reemplazado)"
   ],
   "metadata": {
    "collapsed": false,
    "ExecuteTime": {
     "end_time": "2024-11-29T21:34:24.842787700Z",
     "start_time": "2024-11-29T21:34:24.835283500Z"
    }
   },
   "id": "31c97e8449296f5e"
  },
  {
   "cell_type": "markdown",
   "source": [
    "Una vez revisados cuales casos se han tomado tanto de los monogramas como de los bigramas, podríamos intentar hacer $H \\rightarrow r$ por lo que:"
   ],
   "metadata": {
    "collapsed": false
   },
   "id": "ec1f282433d92d30"
  },
  {
   "cell_type": "code",
   "execution_count": 21,
   "outputs": [
    {
     "name": "stdout",
     "output_type": "stream",
     "text": [
      "thetimehas..methe.a.r.ssaidt.ta.k..man.things..sh.esandshi.sandsea.ing.ax...a..agesandkingsand.h.theseais..i.ingh.tand.hether.igshave.ings..t.aita.itthe..sters.ried.e..re.ehave..r.hat..rs.me...sare..t...reathanda.....sare.atn.h.rr.saidthe.ar.enterthe.thankedhimm..h..rthata..a....readthe.a.r.ssaidis.hat.e.hie...need.e..erandvinegar.esidesarever.g..dindeedn..i....reread...stersdear.e.an.egint..eed\n"
     ]
    }
   ],
   "source": [
    "# Definir un diccionario con las letras reemplazadas\n",
    "reemplazos = {\n",
    "    'P': 't',\n",
    "    'B': 'h',\n",
    "    'F': 'e',\n",
    "    'Q': 'a',\n",
    "    'N': 'x',\n",
    "    'K': 'k',\n",
    "    'U': 'v',\n",
    "    'W': 'n',\n",
    "    'A': 'd',\n",
    "    'V': 'i',\n",
    "    'L': 'g',\n",
    "    'Y': 'm',\n",
    "    'X': 's',\n",
    "    'H': 'r',\n",
    "}\n",
    "\n",
    "# Reemplazar las letras en el texto cifrado\n",
    "texto_cifrado_reemplazado = ''.join([reemplazos[letra] if letra in reemplazos else '.' for letra in texto_cifrado])\n",
    "\n",
    "# Imprimir como se ve el texto cifrado reemplazado\n",
    "print(texto_cifrado_reemplazado)"
   ],
   "metadata": {
    "collapsed": false,
    "ExecuteTime": {
     "end_time": "2024-11-29T21:51:23.448685700Z",
     "start_time": "2024-11-29T21:51:23.439810500Z"
    }
   },
   "id": "acc8802a2590d675"
  },
  {
   "cell_type": "markdown",
   "source": [
    "Revisando ahora los trigramas, podríamos suponer que $OTH \\rightarrow for$, por lo que:"
   ],
   "metadata": {
    "collapsed": false
   },
   "id": "bbac524489247a9a"
  },
  {
   "cell_type": "code",
   "execution_count": 22,
   "outputs": [
    {
     "name": "stdout",
     "output_type": "stream",
     "text": [
      "thetimehas.omethe.a.r.ssaidtota.kofman.thingsofshoesandshi.sandsea.ing.axof.a..agesandkingsand.h.theseais.oi.inghotand.hether.igshave.ings..t.aita.ittheo.sters.ried.efore.ehaveo.r.hatforsomeof.sareo.tof.reathanda..of.sarefatnoh.rr.saidthe.ar.enterthe.thankedhimm..hforthata.oafof.readthe.a.r.ssaidis.hat.e.hief..need.e..erandvinegar.esidesarever.goodindeedno.if.o.reread.o.stersdear.e.an.egintofeed\n"
     ]
    }
   ],
   "source": [
    "# Definir un diccionario con las letras reemplazadas\n",
    "reemplazos = {\n",
    "    'P': 't',\n",
    "    'B': 'h',\n",
    "    'F': 'e',\n",
    "    'Q': 'a',\n",
    "    'N': 'x',\n",
    "    'K': 'k',\n",
    "    'U': 'v',\n",
    "    'W': 'n',\n",
    "    'A': 'd',\n",
    "    'V': 'i',\n",
    "    'L': 'g',\n",
    "    'Y': 'm',\n",
    "    'X': 's',\n",
    "    'H': 'r',\n",
    "    'T': 'o',\n",
    "    'O': 'f'\n",
    "}\n",
    "\n",
    "# Reemplazar las letras en el texto cifrado\n",
    "texto_cifrado_reemplazado = ''.join([reemplazos[letra] if letra in reemplazos else '.' for letra in texto_cifrado])\n",
    "\n",
    "# Imprimir como se ve el texto cifrado reemplazado\n",
    "print(texto_cifrado_reemplazado)"
   ],
   "metadata": {
    "collapsed": false,
    "ExecuteTime": {
     "end_time": "2024-11-29T21:55:09.647236600Z",
     "start_time": "2024-11-29T21:55:09.640132500Z"
    }
   },
   "id": "a085d1b83c9e55ba"
  },
  {
   "cell_type": "markdown",
   "source": [
    "Ahora, podríamos notar que la cuarta palabra, con las letras disponibles que nos quedan podría ser \"come\", por lo que:"
   ],
   "metadata": {
    "collapsed": false
   },
   "id": "c052ae1b69bec67"
  },
  {
   "cell_type": "code",
   "execution_count": 23,
   "outputs": [
    {
     "name": "stdout",
     "output_type": "stream",
     "text": [
      "thetimehascomethe.a.r.ssaidtota.kofman.thingsofshoesandshi.sandsea.ing.axofca..agesandkingsand.h.theseais.oi.inghotand.hether.igshave.ings..t.aita.ittheo.sterscried.efore.ehaveo.rchatforsomeof.sareo.tof.reathanda..of.sarefatnoh.rr.saidthecar.enterthe.thankedhimm.chforthata.oafof.readthe.a.r.ssaidis.hat.echief..need.e..erandvinegar.esidesarever.goodindeedno.if.o.reread.o.stersdear.ecan.egintofeed\n"
     ]
    }
   ],
   "source": [
    "# Definir un diccionario con las letras reemplazadas\n",
    "reemplazos = {\n",
    "    'P': 't',\n",
    "    'B': 'h',\n",
    "    'F': 'e',\n",
    "    'Q': 'a',\n",
    "    'N': 'x',\n",
    "    'K': 'k',\n",
    "    'U': 'v',\n",
    "    'W': 'n',\n",
    "    'A': 'd',\n",
    "    'V': 'i',\n",
    "    'L': 'g',\n",
    "    'Y': 'm',\n",
    "    'X': 's',\n",
    "    'H': 'r',\n",
    "    'T': 'o',\n",
    "    'O': 'f',\n",
    "    'Z': 'c'\n",
    "}\n",
    "\n",
    "# Reemplazar las letras en el texto cifrado\n",
    "texto_cifrado_reemplazado = ''.join([reemplazos[letra] if letra in reemplazos else '.' for letra in texto_cifrado])\n",
    "\n",
    "# Imprimir como se ve el texto cifrado reemplazado\n",
    "print(texto_cifrado_reemplazado)"
   ],
   "metadata": {
    "collapsed": false,
    "ExecuteTime": {
     "end_time": "2024-11-29T21:57:57.287436200Z",
     "start_time": "2024-11-29T21:57:57.273635100Z"
    }
   },
   "id": "773e87def9c93ace"
  },
  {
   "cell_type": "markdown",
   "source": [
    "Detectamos una posible palabra, \"total\", de donde $J \\rightarrow l$, por lo que:"
   ],
   "metadata": {
    "collapsed": false
   },
   "id": "64bc70f441749a5a"
  },
  {
   "cell_type": "code",
   "execution_count": 26,
   "outputs": [
    {
     "name": "stdout",
     "output_type": "stream",
     "text": [
      "thetimehascomethe.alr.ssaidtotalkofman.thingsofshoesandshi.sandsealing.axofca..agesandkingsand.h.theseais.oilinghotand.hether.igshave.ings..t.aita.ittheo.sterscried.efore.ehaveo.rchatforsomeof.sareo.tof.reathandallof.sarefatnoh.rr.saidthecar.enterthe.thankedhimm.chforthataloafof.readthe.alr.ssaidis.hat.echiefl.need.e..erandvinegar.esidesarever.goodindeedno.if.o.reread.o.stersdear.ecan.egintofeed\n"
     ]
    }
   ],
   "source": [
    "# Definir un diccionario con las letras reemplazadas\n",
    "reemplazos = {\n",
    "    'P': 't',\n",
    "    'B': 'h',\n",
    "    'F': 'e',\n",
    "    'Q': 'a',\n",
    "    'N': 'x',\n",
    "    'K': 'k',\n",
    "    'U': 'v',\n",
    "    'W': 'n',\n",
    "    'A': 'd',\n",
    "    'V': 'i',\n",
    "    'L': 'g',\n",
    "    'Y': 'm',\n",
    "    'X': 's',\n",
    "    'H': 'r',\n",
    "    'T': 'o',\n",
    "    'O': 'f',\n",
    "    'Z': 'c',\n",
    "    'J': 'l'\n",
    "}\n",
    "\n",
    "# Reemplazar las letras en el texto cifrado\n",
    "texto_cifrado_reemplazado = ''.join([reemplazos[letra] if letra in reemplazos else '.' for letra in texto_cifrado])\n",
    "\n",
    "# Imprimir como se ve el texto cifrado reemplazado\n",
    "print(texto_cifrado_reemplazado)"
   ],
   "metadata": {
    "collapsed": false,
    "ExecuteTime": {
     "end_time": "2024-11-29T22:11:11.339639900Z",
     "start_time": "2024-11-29T22:11:11.334193800Z"
    }
   },
   "id": "6a6840eb80ae588c"
  },
  {
   "cell_type": "markdown",
   "source": [
    "Podríamos tener al final \"begin to feed\" $G \\rightarrow b$, por lo que:"
   ],
   "metadata": {
    "collapsed": false
   },
   "id": "954c66b5b2fe9695"
  },
  {
   "cell_type": "code",
   "execution_count": 27,
   "outputs": [
    {
     "name": "stdout",
     "output_type": "stream",
     "text": [
      "thetimehascomethe.alr.ssaidtotalkofman.thingsofshoesandshi.sandsealing.axofcabbagesandkingsand.h.theseaisboilinghotand.hether.igshave.ingsb.t.aitabittheo.sterscriedbefore.ehaveo.rchatforsomeof.sareo.tofbreathandallof.sarefatnoh.rr.saidthecar.enterthe.thankedhimm.chforthataloafofbreadthe.alr.ssaidis.hat.echiefl.need.e..erandvinegarbesidesarever.goodindeedno.if.o.reread.o.stersdear.ecanbegintofeed\n"
     ]
    }
   ],
   "source": [
    "# Definir un diccionario con las letras reemplazadas\n",
    "reemplazos = {\n",
    "    'P': 't',\n",
    "    'B': 'h',\n",
    "    'F': 'e',\n",
    "    'Q': 'a',\n",
    "    'N': 'x',\n",
    "    'K': 'k',\n",
    "    'U': 'v',\n",
    "    'W': 'n',\n",
    "    'A': 'd',\n",
    "    'V': 'i',\n",
    "    'L': 'g',\n",
    "    'Y': 'm',\n",
    "    'X': 's',\n",
    "    'H': 'r',\n",
    "    'T': 'o',\n",
    "    'O': 'f',\n",
    "    'Z': 'c',\n",
    "    'J': 'l',\n",
    "    'G': 'b'\n",
    "}\n",
    "\n",
    "# Reemplazar las letras en el texto cifrado\n",
    "texto_cifrado_reemplazado = ''.join([reemplazos[letra] if letra in reemplazos else '.' for letra in texto_cifrado])\n",
    "\n",
    "# Imprimir como se ve el texto cifrado reemplazado\n",
    "print(texto_cifrado_reemplazado)"
   ],
   "metadata": {
    "collapsed": false,
    "ExecuteTime": {
     "end_time": "2024-11-29T22:13:30.555294400Z",
     "start_time": "2024-11-29T22:13:30.547134Z"
    }
   },
   "id": "a612e80e34cf26a3"
  },
  {
   "cell_type": "markdown",
   "source": [
    "Detectamos una posible palabra, \"very good\", por lo que $I \\rightarrow y$, por lo que:"
   ],
   "metadata": {
    "collapsed": false
   },
   "id": "8818b12198d34539"
  },
  {
   "cell_type": "code",
   "execution_count": 28,
   "outputs": [
    {
     "name": "stdout",
     "output_type": "stream",
     "text": [
      "thetimehascomethe.alr.ssaidtotalkofmanythingsofshoesandshi.sandsealing.axofcabbagesandkingsand.hytheseaisboilinghotand.hether.igshave.ingsb.t.aitabittheoysterscriedbefore.ehaveo.rchatforsomeof.sareo.tofbreathandallof.sarefatnoh.rrysaidthecar.entertheythankedhimm.chforthataloafofbreadthe.alr.ssaidis.hat.echieflyneed.e..erandvinegarbesidesareverygoodindeedno.ifyo.rereadyoystersdear.ecanbegintofeed\n"
     ]
    }
   ],
   "source": [
    "# Definir un diccionario con las letras reemplazadas\n",
    "reemplazos = {\n",
    "    'P': 't',\n",
    "    'B': 'h',\n",
    "    'F': 'e',\n",
    "    'Q': 'a',\n",
    "    'N': 'x',\n",
    "    'K': 'k',\n",
    "    'U': 'v',\n",
    "    'W': 'n',\n",
    "    'A': 'd',\n",
    "    'V': 'i',\n",
    "    'L': 'g',\n",
    "    'Y': 'm',\n",
    "    'X': 's',\n",
    "    'H': 'r',\n",
    "    'T': 'o',\n",
    "    'O': 'f',\n",
    "    'Z': 'c',\n",
    "    'J': 'l',\n",
    "    'G': 'b',\n",
    "    'I': 'y'\n",
    "}\n",
    "\n",
    "# Reemplazar las letras en el texto cifrado\n",
    "texto_cifrado_reemplazado = ''.join([reemplazos[letra] if letra in reemplazos else '.' for letra in texto_cifrado])\n",
    "\n",
    "# Imprimir como se ve el texto cifrado reemplazado\n",
    "print(texto_cifrado_reemplazado)"
   ],
   "metadata": {
    "collapsed": false,
    "ExecuteTime": {
     "end_time": "2024-11-29T22:16:08.264699600Z",
     "start_time": "2024-11-29T22:16:08.257894Z"
    }
   },
   "id": "6628451d6c8a432e"
  },
  {
   "cell_type": "code",
   "execution_count": 29,
   "outputs": [
    {
     "name": "stdout",
     "output_type": "stream",
     "text": [
      "thetimehascometheEalrDssaidtotalkofmanythingsofshoesandshiCsandsealingEaxofcabbagesandkingsandEhytheseaisboilinghotandEhetherCigshaveEingsbDtEaitabittheoysterscriedbeforeEehaveoDrchatforsomeofDsareoDtofbreathandallofDsarefatnohDrrysaidthecarCentertheythankedhimmDchforthataloafofbreadtheEalrDssaidisEhatEechieflyneedCeCCerandvinegarbesidesareverygoodindeednoEifyoDrereadyoystersdearEecanbegintofeed\n"
     ]
    }
   ],
   "source": [
    "# Imprimo el reemplazado con las posibles letras faltantes\n",
    "texto_cifrado_reemplazado = ''.join([reemplazos[letra] if letra in reemplazos else letra for letra in texto_cifrado])\n",
    "\n",
    "print(texto_cifrado_reemplazado)"
   ],
   "metadata": {
    "collapsed": false,
    "ExecuteTime": {
     "end_time": "2024-11-29T22:18:01.155430100Z",
     "start_time": "2024-11-29T22:18:01.147511300Z"
    }
   },
   "id": "eada0015eb798916"
  },
  {
   "cell_type": "markdown",
   "source": [
    "Revisando las letras que nos faltan podemos terminar de reemplazar las que necesitamos, por lo que:"
   ],
   "metadata": {
    "collapsed": false
   },
   "id": "b351f380a93ae706"
  },
  {
   "cell_type": "code",
   "execution_count": 42,
   "outputs": [
    {
     "name": "stdout",
     "output_type": "stream",
     "text": [
      "thetimehascomethewalrussaidtotalkofmanythingsofshoesandshipsandsealingwaxofcabbagesandkingsandwhytheseaisboilinghotandwhetherpigshavewingsbutwaitabittheoysterscriedbeforewehaveourchatforsomeofusareoutofbreathandallofusarefatnohurrysaidthecarpentertheythankedhimmuchforthataloafofbreadthewalrussaidiswhatwechieflyneedpepperandvinegarbesidesareverygoodindeednowifyourereadyoystersdearwecanbegintofeed\n"
     ]
    }
   ],
   "source": [
    "# Definir un diccionario con las letras reemplazadas\n",
    "reemplazos = {\n",
    "    'P': 't',\n",
    "    'B': 'h',\n",
    "    'F': 'e',\n",
    "    'Q': 'a',\n",
    "    'N': 'x',\n",
    "    'K': 'k',\n",
    "    'U': 'v',\n",
    "    'W': 'n',\n",
    "    'A': 'd',\n",
    "    'V': 'i',\n",
    "    'L': 'g',\n",
    "    'Y': 'm',\n",
    "    'X': 's',\n",
    "    'H': 'r',\n",
    "    'T': 'o',\n",
    "    'O': 'f',\n",
    "    'Z': 'c',\n",
    "    'J': 'l',\n",
    "    'G': 'b',\n",
    "    'I': 'y',\n",
    "    'D': 'u',\n",
    "    'E': 'w',\n",
    "    'C': 'p'\n",
    "}\n",
    "\n",
    "# Reemplazar las letras en el texto cifrado\n",
    "texto_cifrado_reemplazado = ''.join([reemplazos[letra] if letra in reemplazos else '.' for letra in texto_cifrado])\n",
    "\n",
    "# Imprimir como se ve el texto cifrado reemplazado\n",
    "print(texto_cifrado_reemplazado)"
   ],
   "metadata": {
    "collapsed": false,
    "ExecuteTime": {
     "end_time": "2024-11-29T22:49:24.055327300Z",
     "start_time": "2024-11-29T22:49:24.048793500Z"
    }
   },
   "id": "68cd3780d57dfc92"
  },
  {
   "cell_type": "markdown",
   "source": [
    "## Conclusión\n",
    "Podemos ver que el texto plano obtenido tiene sentido y que, a pesar de que algunas suposiciones no eran del todo ciertas, nos permitieron llegar a la solución. Por lo que, el texto plano es:\n",
    "\n",
    "the time has come the walrus said to talk of many things of shoes and ships and sealing wax of cabbages and kings and why the sea is boiling hot and whether pigs have wings but wait a bit the oysters cried before we have our chat for some of us are out of breath and all of us are fat no hurry said the carpenter they thanked him much for that a loaf of bread the walrus said is what we chiefly need pepper and vinegar besides are very good indeed now if youre ready oysters dear we can begin to feed"
   ],
   "metadata": {
    "collapsed": false
   },
   "id": "346c42b8f976bece"
  },
  {
   "cell_type": "markdown",
   "source": [
    "# Punto 10\n",
    "Determinar el Texto Plano y la Llave del Texto Cifrado que se Muestra a Continuación:\n",
    "\n",
    "$$ MXDXBVTZWVMXNSPBQXLIMSCCSGXSCJXBOVQXCJZMOJZCVC $$\n",
    "$$ TVWJCZAAXZBCSSCJXBQCJZCOJZCNSPOXBXSBTVWJCJZDXG $$\n",
    "$$ XXMOZQMSCSCJXBOVQXCJZMOJZCNSPJZHGXXMOSPLHJZDXZ $$\n",
    "$$ AAXZBXHCSCJXTCSGXSCJXBOVQX $$\n",
    "\n",
    "*Pista:* El mensaje fue encriptado con un cifrador de sustitución simple y el Texto Plano no tiene espacios ni puntuación.\n",
    "\n",
    "Podemos solucionarlo mediante análisis de frecuencias"
   ],
   "metadata": {
    "collapsed": false
   },
   "id": "22a3a7ae1429678e"
  },
  {
   "cell_type": "code",
   "execution_count": 6,
   "outputs": [
    {
     "data": {
      "text/plain": "<Figure size 1000x500 with 1 Axes>",
      "image/png": "[encoded data removed]"
     },
     "metadata": {},
     "output_type": "display_data"
    }
   ],
   "source": [
    "import matplotlib.pyplot as plt\n",
    "from collections import Counter\n",
    "\n",
    "# Definimos el texto cifrado\n",
    "texto_cifrado = 'MXDXBVTZWVMXNSPBQXLIMSCCSGXSCJXBOVQXCJZMOJZCVCTVWJCZAAXZBCSSCJXBQCJZCOJZCNSPOXBXSBTVWJCJZDXGXXMOZQMSCSCJXBOVQXCJZMOJZCNSPJZHGXXMOSPLHJZDXZAAXZBXHCSCJXTCSGXSCJXBOVQX'\n",
    "\n",
    "# Definir la frecuencia de las letras en el idioma inglés\n",
    "frecuencias_ingles = {\n",
    "    'A': 8.000395, 'B': 1.535701, 'C': 2.575785, 'D': 4.317924, 'E': 12.575645,\n",
    "    'F': 2.350463, 'G': 1.982677, 'H': 6.236609, 'I': 6.920007, 'J': 0.145188,\n",
    "    'K': 0.739906, 'L': 4.057231, 'M': 2.560994, 'N': 6.903785, 'O': 7.591270,\n",
    "    'P': 1.795742, 'Q': 0.117571, 'R': 5.959034, 'S': 6.340880, 'T': 9.085226,\n",
    "    'U': 2.841783, 'V': 0.981717, 'W': 2.224893, 'X': 0.179556, 'Y': 1.900888,\n",
    "    'Z': 0.079130\n",
    "}\n",
    "\n",
    "# Definir una función para calcular la frecuencia de los n-gramas\n",
    "def contar_ngramas(texto, n):\n",
    "    ngramas = [texto[i:i+n] for i in range(len(texto) - n + 1)]\n",
    "    ngramas_frecuencia = Counter(ngramas)\n",
    "    return ngramas_frecuencia\n",
    "\n",
    "# Hallar las frecuencias de las letras\n",
    "frecuencias_letras = contar_ngramas(texto_cifrado, 1)\n",
    "\n",
    "# Calcular la frecuencia de las letras en el texto cifrado\n",
    "frecuencias_letras = dict(sorted(frecuencias_letras.items()))\n",
    "frecuencias_letras = {k: v / len(texto_cifrado) * 100 for k, v in frecuencias_letras.items()}\n",
    "frecuencias_letras = dict(sorted(frecuencias_letras.items()))\n",
    "\n",
    "# Plotear las frecuencias de las letras en el texto cifrado\n",
    "plt.figure(figsize=(10, 5))\n",
    "plt.bar(frecuencias_letras.keys(), frecuencias_letras.values())\n",
    "plt.xlabel('Letras')\n",
    "plt.ylabel('Frecuencia (%)')\n",
    "plt.title('Frecuencia de las letras en el texto cifrado')\n",
    "plt.show()"
   ],
   "metadata": {
    "collapsed": false,
    "ExecuteTime": {
     "end_time": "2024-11-30T01:15:04.837913200Z",
     "start_time": "2024-11-30T01:15:04.636534900Z"
    }
   },
   "id": "c66810d907eddab4"
  },
  {
   "cell_type": "markdown",
   "source": [
    "Ya tenemos las frecuencias de las letras en nuestro texto. Ahora, vamos a compararlas con las frecuencias de las letras en el idioma inglés."
   ],
   "metadata": {
    "collapsed": false
   },
   "id": "73bf33aa2ae23915"
  },
  {
   "cell_type": "code",
   "execution_count": 7,
   "outputs": [
    {
     "name": "stdout",
     "output_type": "stream",
     "text": [
      "Texto Cifrado   Frecuencia (%)            Idioma          Frecuencia (%)\n",
      "---------------------------------------------------------------------------\n",
      "X               15.24                     E               12.575645\n",
      "C               12.80                     T               9.085226\n",
      "J               9.76                      A               8.000395\n",
      "S               9.15                      O               7.59127\n",
      "Z               9.15                      I               6.920007\n",
      "B               6.10                      N               6.903785\n",
      "O               5.49                      S               6.34088\n",
      "M               4.88                      H               6.236609\n",
      "V               4.88                      R               5.959034\n",
      "Q               3.66                      D               4.317924\n",
      "A               2.44                      L               4.057231\n",
      "G               2.44                      U               2.841783\n",
      "P               2.44                      C               2.575785\n",
      "T               2.44                      M               2.560994\n",
      "D               1.83                      F               2.350463\n",
      "H               1.83                      W               2.224893\n",
      "N               1.83                      G               1.982677\n",
      "W               1.83                      Y               1.900888\n",
      "L               1.22                      P               1.795742\n",
      "I               0.61                      B               1.535701\n"
     ]
    }
   ],
   "source": [
    "# Definir función que imprima en orden descendente n frecuencias del texto cifrado y del idioma inglés\n",
    "def imprimir_frecuencias(frecuencias_texto, frecuencias_idioma, n):\n",
    "    # Ordenar las frecuencias del texto cifrado\n",
    "    frecuencias_texto = sorted(frecuencias_texto.items(), key=lambda item: item[1], reverse=True)[:n]\n",
    "    # Ordenar las frecuencias del idioma inglés\n",
    "    frecuencias_idioma = sorted(frecuencias_idioma.items(), key=lambda item: item[1], reverse=True)[:n]\n",
    "    \n",
    "    print(f\"{'Texto Cifrado':<15} {'Frecuencia (%)':<25} {'Idioma':<15} {'Frecuencia (%)'}\")\n",
    "    print('-' * 75)\n",
    "    \n",
    "    for i in range(min(n, len(frecuencias_texto), len(frecuencias_idioma))):\n",
    "        textocrifrado, textocifrado_frec = frecuencias_texto[i]\n",
    "        textoingles, textoingles_frec = frecuencias_idioma[i]\n",
    "        \n",
    "        print(f\"{textocrifrado:<15} {textocifrado_frec:<25.2f} {textoingles:<15} {textoingles_frec}\")\n",
    "        \n",
    "# Imprimir las frecuencias de las letras en el texto cifrado y en el idioma inglés\n",
    "imprimir_frecuencias(frecuencias_letras, frecuencias_ingles, 26)"
   ],
   "metadata": {
    "collapsed": false,
    "ExecuteTime": {
     "end_time": "2024-11-30T01:15:07.667905800Z",
     "start_time": "2024-11-30T01:15:07.651875900Z"
    }
   },
   "id": "e47c85dab9287ff2"
  },
  {
   "cell_type": "markdown",
   "source": [
    "Ahora realicemos el análisis con los bigramas, trigramas y cuatrigramas."
   ],
   "metadata": {
    "collapsed": false
   },
   "id": "c85f909b2e2cff4c"
  },
  {
   "cell_type": "code",
   "execution_count": 8,
   "outputs": [
    {
     "name": "stdout",
     "output_type": "stream",
     "text": [
      "Texto Cifrado   Frecuencia (%)            Idioma          Frecuencia (%)\n",
      "---------------------------------------------------------------------------\n",
      "CJ              5.49                      TH              3.882543\n",
      "JZ              5.49                      HE              3.681391\n",
      "SC              4.27                      IN              2.283899\n",
      "XB              3.66                      ER              2.178042\n",
      "CS              3.05                      AN              2.14046\n",
      "JX              3.05                      RE              1.749394\n",
      "GX              2.44                      ND              1.571977\n",
      "MO              2.44                      ON              1.418244\n",
      "QX              2.44                      EN              1.383239\n",
      "SP              2.44                      AT              1.335523\n",
      "ZC              2.44                      OU              1.285484\n",
      "BO              1.83                      ED              1.275779\n",
      "DX              1.83                      HA              1.274742\n",
      "NS              1.83                      TO              1.169655\n",
      "OJ              1.83                      OR              1.151094\n"
     ]
    }
   ],
   "source": [
    "# Hallar las frecuencias de los bigramas\n",
    "bigrams_ingles = {\n",
    "    'TH': 3.882543, 'HE': 3.681391, 'IN': 2.283899, 'ER': 2.178042, 'AN': 2.140460,\n",
    "    'RE': 1.749394, 'ND': 1.571977, 'ON': 1.418244, 'EN': 1.383239, 'AT': 1.335523,\n",
    "    'OU': 1.285484, 'ED': 1.275779, 'HA': 1.274742, 'TO': 1.169655, 'OR': 1.151094,\n",
    "    'IT': 1.134891, 'IS': 1.109877, 'HI': 1.092302, 'ES': 1.092301, 'NG': 1.053385\n",
    "}\n",
    "\n",
    "texto_cifrado_bigrams = contar_ngramas(texto_cifrado, 2)\n",
    "\n",
    "# Calcular la frecuencia de los bigramas en el texto cifrado\n",
    "texto_cifrado_bigrams = dict(sorted(texto_cifrado_bigrams.items()))\n",
    "texto_cifrado_bigrams = {k: v / len(texto_cifrado) * 100 for k, v in texto_cifrado_bigrams.items()}\n",
    "texto_cifrado_bigrams = dict(sorted(texto_cifrado_bigrams.items()))\n",
    "\n",
    "# Imprimir las frecuencias de los bigramas en el texto cifrado y en el idioma inglés\n",
    "imprimir_frecuencias(texto_cifrado_bigrams, bigrams_ingles, 15)"
   ],
   "metadata": {
    "collapsed": false,
    "ExecuteTime": {
     "end_time": "2024-11-30T01:15:09.766915900Z",
     "start_time": "2024-11-30T01:15:09.756034600Z"
    }
   },
   "id": "ae833ea504548892"
  },
  {
   "cell_type": "code",
   "execution_count": 9,
   "outputs": [
    {
     "name": "stdout",
     "output_type": "stream",
     "text": [
      "Texto Cifrado   Frecuencia (%)            Idioma          Frecuencia (%)\n",
      "---------------------------------------------------------------------------\n",
      "CJX             3.05                      THE             3.508232\n",
      "SCJ             3.05                      AND             1.593878\n",
      "CJZ             2.44                      ING             1.147042\n",
      "JXB             2.44                      HER             0.822444\n",
      "JZC             2.44                      HAT             0.650715\n",
      "BOV             1.83                      HIS             0.596748\n",
      "NSP             1.83                      THA             0.593593\n",
      "OJZ             1.83                      ERE             0.560594\n",
      "OVQ             1.83                      FOR             0.555372\n",
      "VQX             1.83                      ENT             0.530771\n",
      "XBO             1.83                      ION             0.506454\n",
      "AAX             1.22                      TER             0.461099\n",
      "AXZ             1.22                      WAS             0.460487\n",
      "CNS             1.22                      YOU             0.437213\n",
      "CSC             1.22                      ITH             0.43125\n",
      "CSG             1.22                      VER             0.430732\n",
      "GXS             1.22                      ALL             0.422758\n",
      "GXX             1.22                      WIT             0.39729\n",
      "JZD             1.22                      THI             0.394796\n",
      "JZM             1.22                      TIO             0.378058\n"
     ]
    }
   ],
   "source": [
    "# Hallar las frecuencias de los trigramas\n",
    "trigramas_ingles = {\n",
    "    'THE': 3.508232,\n",
    "    'AND': 1.593878,\n",
    "    'ING': 1.147042,\n",
    "    'HER': 0.822444,\n",
    "    'HAT': 0.650715,\n",
    "    'HIS': 0.596748,\n",
    "    'THA': 0.593593,\n",
    "    'ERE': 0.560594,\n",
    "    'FOR': 0.555372,\n",
    "    'ENT': 0.530771,\n",
    "    'ION': 0.506454,\n",
    "    'TER': 0.461099,\n",
    "    'WAS': 0.460487,\n",
    "    'YOU': 0.437213,\n",
    "    'ITH': 0.431250,\n",
    "    'VER': 0.430732,\n",
    "    'ALL': 0.422758,\n",
    "    'WIT': 0.397290,\n",
    "    'THI': 0.394796,\n",
    "    'TIO': 0.378058\n",
    "}\n",
    "\n",
    "texto_cifrado_trigrams = contar_ngramas(texto_cifrado, 3)\n",
    "\n",
    "# Calcular la frecuencia de los trigramas en el texto cifrado\n",
    "texto_cifrado_trigrams = dict(sorted(texto_cifrado_trigrams.items()))\n",
    "texto_cifrado_trigrams = {k: v / len(texto_cifrado) * 100 for k, v in texto_cifrado_trigrams.items()}\n",
    "texto_cifrado_trigrams = dict(sorted(texto_cifrado_trigrams.items()))\n",
    "\n",
    "# Imprimir las frecuencias de los trigramas en el texto cifrado y en el idioma inglés\n",
    "imprimir_frecuencias(texto_cifrado_trigrams, trigramas_ingles, 20)\n"
   ],
   "metadata": {
    "collapsed": false,
    "ExecuteTime": {
     "end_time": "2024-11-30T01:15:10.252129300Z",
     "start_time": "2024-11-30T01:15:10.241780300Z"
    }
   },
   "id": "1bad8253588d24dd"
  },
  {
   "cell_type": "markdown",
   "source": [],
   "metadata": {
    "collapsed": false
   },
   "id": "3f423253073bd2a2"
  },
  {
   "cell_type": "code",
   "execution_count": 10,
   "outputs": [
    {
     "name": "stdout",
     "output_type": "stream",
     "text": [
      "Texto Cifrado   Frecuencia (%)            Idioma          Frecuencia (%)\n",
      "---------------------------------------------------------------------------\n",
      "SCJX            3.05                      THAT            0.761242\n",
      "CJXB            2.44                      THER            0.604501\n",
      "BOVQ            1.83                      WITH            0.573866\n",
      "JXBO            1.83                      TION            0.551919\n",
      "OJZC            1.83                      HERE            0.374549\n",
      "OVQX            1.83                      OULD            0.36992\n",
      "XBOV            1.83                      IGHT            0.30944\n",
      "AAXZ            1.22                      HAVE            0.290544\n",
      "AXZB            1.22                      HICH            0.284292\n",
      "CJZM            1.22                      WHIC            0.283826\n",
      "CNSP            1.22                      THIS            0.276333\n",
      "CSCJ            1.22                      THIN            0.270413\n",
      "CSGX            1.22                      THEY            0.262421\n",
      "GXSC            1.22                      ATIO            0.262386\n",
      "GXXM            1.22                      EVER            0.260695\n",
      "JZCN            1.22                      FROM            0.25858\n",
      "JZDX            1.22                      OUGH            0.253447\n",
      "JZMO            1.22                      WERE            0.231089\n",
      "MOJZ            1.22                      HING            0.229944\n"
     ]
    }
   ],
   "source": [
    "# Hallar las frecuencias de los cuatrigramas\n",
    "cuatrigramas_ingles = {\n",
    "    \"THAT\": 0.761242,\n",
    "    \"THER\": 0.604501,\n",
    "    \"WITH\": 0.573866,\n",
    "    \"TION\": 0.551919,\n",
    "    \"HERE\": 0.374549,\n",
    "    \"OULD\": 0.369920,\n",
    "    \"IGHT\": 0.309440,\n",
    "    \"HAVE\": 0.290544,\n",
    "    \"HICH\": 0.284292,\n",
    "    \"WHIC\": 0.283826,\n",
    "    \"THIS\": 0.276333,\n",
    "    \"THIN\": 0.270413,\n",
    "    \"THEY\": 0.262421,\n",
    "    \"ATIO\": 0.262386,\n",
    "    \"EVER\": 0.260695,\n",
    "    \"FROM\": 0.258580,\n",
    "    \"OUGH\": 0.253447,\n",
    "    \"WERE\": 0.231089,\n",
    "    \"HING\": 0.229944\n",
    "}\n",
    "\n",
    "# Contar los cuatrigramas en el texto cifrado\n",
    "texto_cifrado_cuatrigrams = contar_ngramas(texto_cifrado, 4)\n",
    "\n",
    "# Calcular la frecuencia de los cuatrigramas en el texto cifrado\n",
    "texto_cifrado_cuatrigrams = dict(sorted(texto_cifrado_cuatrigrams.items()))\n",
    "texto_cifrado_cuatrigrams = {k: v / len(texto_cifrado) * 100 for k, v in texto_cifrado_cuatrigrams.items()}\n",
    "texto_cifrado_cuatrigrams = dict(sorted(texto_cifrado_cuatrigrams.items()))\n",
    "\n",
    "# Imprimir las frecuencias de los cuatrigramas en el texto cifrado y en el idioma inglés\n",
    "imprimir_frecuencias(texto_cifrado_cuatrigrams, cuatrigramas_ingles, 20)"
   ],
   "metadata": {
    "collapsed": false,
    "ExecuteTime": {
     "end_time": "2024-11-30T01:15:10.964546Z",
     "start_time": "2024-11-30T01:15:10.952841600Z"
    }
   },
   "id": "d8141ff0ed5e128f"
  },
  {
   "cell_type": "markdown",
   "source": [
    "En primer lugar, con el análisis de frecuencias por monogramas, reemplacemos las 3 letras más repetidas y las 3 que menos se repiten. Así, tenemos que:\n",
    "\n",
    "- $X \\rightarrow e$\n",
    "- $C \\rightarrow t$\n",
    "- $J \\rightarrow a$\n",
    "- $W \\rightarrow y$\n",
    "- $L \\rightarrow p$\n",
    "- $I \\rightarrow b$"
   ],
   "metadata": {
    "collapsed": false
   },
   "id": "b179f75b0cdbb758"
  },
  {
   "cell_type": "code",
   "execution_count": 12,
   "outputs": [
    {
     "name": "stdout",
     "output_type": "stream",
     "text": [
      ".e.e....y..e.....epb..tt..e.the....eth...h.t.t..yht...e..t..the..th.t.h.t....e.e....yhth..e.ee......t.the....eth...h.t...h...ee....p.h..e...e..e.t.the.t..e.the....e\n"
     ]
    }
   ],
   "source": [
    "# Definir un diccionario con las letras reemplazadas\n",
    "reemplazos = {\n",
    "    'X': 'e',\n",
    "    'C': 't',\n",
    "    'J': 'a',\n",
    "    'W': 'y',\n",
    "    'L': 'p',\n",
    "    'I': 'b'\n",
    "}\n",
    "\n",
    "# Reemplazar las letras en el texto cifrado\n",
    "texto_cifrado_reemplazado = ''.join([reemplazos[letra] if letra in reemplazos else '.' for letra in texto_cifrado])\n",
    "\n",
    "# Imprimir como se ve el texto cifrado reemplazado\n",
    "print(texto_cifrado_reemplazado)"
   ],
   "metadata": {
    "collapsed": false,
    "ExecuteTime": {
     "end_time": "2024-11-30T01:20:54.731656300Z",
     "start_time": "2024-11-30T01:20:54.723133100Z"
    }
   },
   "id": "e857d09661a911a0"
  },
  {
   "cell_type": "markdown",
   "source": [
    "Sin embargo, analizando los bigramas, hay alta probabilidad de que $J \\rightarrow h$, por lo que, cambiemos la asignación:"
   ],
   "metadata": {
    "collapsed": false
   },
   "id": "e6a26ec536fa18ad"
  },
  {
   "cell_type": "code",
   "execution_count": 13,
   "outputs": [
    {
     "name": "stdout",
     "output_type": "stream",
     "text": [
      ".e.e....y..e.a...epb.atta.eathe....eth...h.t.t..yht...e..taathe..th.t.h.t.a..e.ea...yhth..e.ee.....atathe....eth...h.t.a.h...ee..a.p.h..e...e..e.tathe.ta.eathe....e\n"
     ]
    }
   ],
   "source": [
    "# Definir un diccionario con las letras reemplazadas\n",
    "reemplazos = {\n",
    "    'X': 'e',\n",
    "    'C': 't',\n",
    "    'J': 'h',\n",
    "    'S': 'a',\n",
    "    'W': 'y',\n",
    "    'L': 'p',\n",
    "    'I': 'b'\n",
    "}\n",
    "\n",
    "# Reemplazar las letras en el texto cifrado\n",
    "texto_cifrado_reemplazado = ''.join([reemplazos[letra] if letra in reemplazos else '.' for letra in texto_cifrado])\n",
    "\n",
    "# Imprimir como se ve el texto cifrado reemplazado\n",
    "print(texto_cifrado_reemplazado)"
   ],
   "metadata": {
    "collapsed": false,
    "ExecuteTime": {
     "end_time": "2024-11-30T01:22:36.099548200Z",
     "start_time": "2024-11-30T01:22:36.089824800Z"
    }
   },
   "id": "65d7534878d4da16"
  },
  {
   "cell_type": "markdown",
   "source": [],
   "metadata": {
    "collapsed": false
   },
   "id": "509aed7c826ce486"
  },
  {
   "cell_type": "code",
   "execution_count": 14,
   "outputs": [
    {
     "name": "stdout",
     "output_type": "stream",
     "text": [
      ".e.er...y..e.a.r.epb.atta.eather...eth...h.t.t..yht...e.rtaather.th.t.h.t.a..erear..yhth..e.ee.....atather...eth...h.t.a.h...ee..a.p.h..e...e.re.tathe.ta.eather...e\n"
     ]
    }
   ],
   "source": [
    "# Definir un diccionario con las letras reemplazadas\n",
    "reemplazos = {\n",
    "    'X': 'e',\n",
    "    'C': 't',\n",
    "    'J': 'h',\n",
    "    'S': 'a',\n",
    "    'W': 'y',\n",
    "    'L': 'p',\n",
    "    'I': 'b',\n",
    "    'B': 'r'\n",
    "}\n",
    "\n",
    "# Reemplazar las letras en el texto cifrado\n",
    "texto_cifrado_reemplazado = ''.join([reemplazos[letra] if letra in reemplazos else '.' for letra in texto_cifrado])\n",
    "\n",
    "# Imprimir como se ve el texto cifrado reemplazado\n",
    "print(texto_cifrado_reemplazado)"
   ],
   "metadata": {
    "collapsed": false,
    "ExecuteTime": {
     "end_time": "2024-11-30T01:23:41.645380Z",
     "start_time": "2024-11-30T01:23:41.638612800Z"
    }
   },
   "id": "1eca1f539206168"
  }
 ],
 "metadata": {
  "kernelspec": {
   "display_name": "Python 3",
   "language": "python",
   "name": "python3"
  },
  "language_info": {
   "codemirror_mode": {
    "name": "ipython",
    "version": 2
   },
   "file_extension": ".py",
   "mimetype": "text/x-python",
   "name": "python",
   "nbconvert_exporter": "python",
   "pygments_lexer": "ipython2",
   "version": "2.7.6"
  }
 },
 "nbformat": 4,
 "nbformat_minor": 5
}
