{
 "cells": [
  {
   "cell_type": "markdown",
   "source": [
    "# Ejercicio 4\n",
    "Hallar el Texto Plano y la Llave, dado el Texto Cifrado\n",
    "\n",
    "$$ CSYEVIXIVQMREXIH $$\n",
    "\n",
    "*Pista:* La llave es un shift del alfabeto"
   ],
   "metadata": {
    "collapsed": false
   },
   "id": "7c48cf85a36546a4"
  },
  {
   "cell_type": "code",
   "execution_count": 1,
   "id": "initial_id",
   "metadata": {
    "collapsed": true,
    "ExecuteTime": {
     "end_time": "2024-11-30T13:01:03.164487200Z",
     "start_time": "2024-11-30T13:01:03.097106900Z"
    }
   },
   "outputs": [
    {
     "name": "stdout",
     "output_type": "stream",
     "text": [
      "Llave: 0, Texto: CSYEVIXIVQMREXIH\n",
      "Llave: 1, Texto: BRXDUHWHUPLQDWHG\n",
      "Llave: 2, Texto: AQWCTGVGTOKPCVGF\n",
      "Llave: 3, Texto: ZPVBSFUFSNJOBUFE\n",
      "Llave: 4, Texto: YOUARETERMINATED\n",
      "Llave: 5, Texto: XNTZQDSDQLHMZSDC\n",
      "Llave: 6, Texto: WMSYPCRCPKGLYRCB\n",
      "Llave: 7, Texto: VLRXOBQBOJFKXQBA\n",
      "Llave: 8, Texto: UKQWNAPANIEJWPAZ\n",
      "Llave: 9, Texto: TJPVMZOZMHDIVOZY\n",
      "Llave: 10, Texto: SIOULYNYLGCHUNYX\n",
      "Llave: 11, Texto: RHNTKXMXKFBGTMXW\n",
      "Llave: 12, Texto: QGMSJWLWJEAFSLWV\n",
      "Llave: 13, Texto: PFLRIVKVIDZERKVU\n",
      "Llave: 14, Texto: OEKQHUJUHCYDQJUT\n",
      "Llave: 15, Texto: NDJPGTITGBXCPITS\n",
      "Llave: 16, Texto: MCIOFSHSFAWBOHSR\n",
      "Llave: 17, Texto: LBHNERGREZVANGRQ\n",
      "Llave: 18, Texto: KAGMDQFQDYUZMFQP\n",
      "Llave: 19, Texto: JZFLCPEPCXTYLEPO\n",
      "Llave: 20, Texto: IYEKBODOBWSXKDON\n",
      "Llave: 21, Texto: HXDJANCNAVRWJCNM\n",
      "Llave: 22, Texto: GWCIZMBMZUQVIBML\n",
      "Llave: 23, Texto: FVBHYLALYTPUHALK\n",
      "Llave: 24, Texto: EUAGXKZKXSOTGZKJ\n",
      "Llave: 25, Texto: DTZFWJYJWRNSFYJI\n"
     ]
    }
   ],
   "source": [
    "# Definimos el texto cifrado\n",
    "texto_cifrado = 'CSYEVIXIVQMREXIH'\n",
    "\n",
    "# Definimos el alfabeto\n",
    "alfabeto = 'ABCDEFGHIJKLMNOPQRSTUVWXYZ'\n",
    "\n",
    "# Definimos una función para desencriptar el texto\n",
    "def desencriptar(texto_cifrado, llave):\n",
    "    texto_plano = ''\n",
    "    for letra in texto_cifrado:\n",
    "        if letra in alfabeto:\n",
    "            indice = alfabeto.index(letra)\n",
    "            texto_plano += alfabeto[(indice - llave) % len(alfabeto)]\n",
    "        else:\n",
    "            texto_plano += letra\n",
    "    return texto_plano\n",
    "    \n",
    "# Probamos con todas las llaves posibles\n",
    "for llave in range(0, len(alfabeto)):\n",
    "    texto_plano = desencriptar(texto_cifrado, llave)\n",
    "    print(f'Llave: {llave}, Texto: {texto_plano}')"
   ]
  },
  {
   "cell_type": "code",
   "execution_count": 2,
   "outputs": [
    {
     "name": "stdout",
     "output_type": "stream",
     "text": [
      "Texto cifrado: CSYEVIXIVQMREXIH\n",
      "Llave: 4\n",
      "Texto plano: YOUARETERMINATED\n"
     ]
    }
   ],
   "source": [
    "print('Texto cifrado:', texto_cifrado)\n",
    "print('Llave:', 4)\n",
    "print('Texto plano:', desencriptar(texto_cifrado, 4))"
   ],
   "metadata": {
    "collapsed": false,
    "ExecuteTime": {
     "end_time": "2024-11-30T13:01:03.165483Z",
     "start_time": "2024-11-30T13:01:03.110338200Z"
    }
   },
   "id": "70390ae691dd107d"
  },
  {
   "cell_type": "markdown",
   "source": [
    "## Conclusión\n",
    "Por inspección, la llave es $4$ y el texto plano es $YOUARETERMINATED$."
   ],
   "metadata": {
    "collapsed": false
   },
   "id": "47b6fa8837866dd3"
  }
 ],
 "metadata": {
  "kernelspec": {
   "display_name": "Python 3",
   "language": "python",
   "name": "python3"
  },
  "language_info": {
   "codemirror_mode": {
    "name": "ipython",
    "version": 2
   },
   "file_extension": ".py",
   "mimetype": "text/x-python",
   "name": "python",
   "nbconvert_exporter": "python",
   "pygments_lexer": "ipython2",
   "version": "2.7.6"
  }
 },
 "nbformat": 4,
 "nbformat_minor": 5
}
