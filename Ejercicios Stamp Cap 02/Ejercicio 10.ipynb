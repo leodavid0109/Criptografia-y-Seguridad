{
 "cells": [
  {
   "cell_type": "markdown",
   "source": [
    "# Punto 10\n",
    "Determinar el Texto Plano y la Llave del Texto Cifrado que se Muestra a Continuación:\n",
    "\n",
    "$$ MXDXBVTZWVMXNSPBQXLIMSCCSGXSCJXBOVQXCJZMOJZCVC $$\n",
    "$$ TVWJCZAAXZBCSSCJXBQCJZCOJZCNSPOXBXSBTVWJCJZDXG $$\n",
    "$$ XXMOZQMSCSCJXBOVQXCJZMOJZCNSPJZHGXXMOSPLHJZDXZ $$\n",
    "$$ AAXZBXHCSCJXTCSGXSCJXBOVQX $$\n",
    "\n",
    "*Pista:* El mensaje fue encriptado con un cifrador de sustitución simple y el Texto Plano no tiene espacios ni puntuación.\n",
    "\n",
    "Podemos solucionarlo mediante análisis de frecuencias"
   ],
   "metadata": {
    "collapsed": false
   },
   "id": "8e3255c41f2ab165"
  },
  {
   "cell_type": "code",
   "execution_count": 1,
   "id": "initial_id",
   "metadata": {
    "collapsed": true,
    "ExecuteTime": {
     "end_time": "2024-11-30T13:04:48.234658100Z",
     "start_time": "2024-11-30T13:04:47.275228200Z"
    }
   },
   "outputs": [
    {
     "data": {
      "text/plain": "<Figure size 1000x500 with 1 Axes>",
      "image/png": "[encoded data removed]"
     },
     "metadata": {},
     "output_type": "display_data"
    }
   ],
   "source": [
    "import matplotlib.pyplot as plt\n",
    "from collections import Counter\n",
    "\n",
    "# Definimos el texto cifrado\n",
    "texto_cifrado = 'MXDXBVTZWVMXNSPBQXLIMSCCSGXSCJXBOVQXCJZMOJZCVCTVWJCZAAXZBCSSCJXBQCJZCOJZCNSPOXBXSBTVWJCJZDXGXXMOZQMSCSCJXBOVQXCJZMOJZCNSPJZHGXXMOSPLHJZDXZAAXZBXHCSCJXTCSGXSCJXBOVQX'\n",
    "\n",
    "# Definir la frecuencia de las letras en el idioma inglés\n",
    "frecuencias_ingles = {\n",
    "    'A': 8.000395, 'B': 1.535701, 'C': 2.575785, 'D': 4.317924, 'E': 12.575645,\n",
    "    'F': 2.350463, 'G': 1.982677, 'H': 6.236609, 'I': 6.920007, 'J': 0.145188,\n",
    "    'K': 0.739906, 'L': 4.057231, 'M': 2.560994, 'N': 6.903785, 'O': 7.591270,\n",
    "    'P': 1.795742, 'Q': 0.117571, 'R': 5.959034, 'S': 6.340880, 'T': 9.085226,\n",
    "    'U': 2.841783, 'V': 0.981717, 'W': 2.224893, 'X': 0.179556, 'Y': 1.900888,\n",
    "    'Z': 0.079130\n",
    "}\n",
    "\n",
    "# Definir una función para calcular la frecuencia de los n-gramas\n",
    "def contar_ngramas(texto, n):\n",
    "    ngramas = [texto[i:i+n] for i in range(len(texto) - n + 1)]\n",
    "    ngramas_frecuencia = Counter(ngramas)\n",
    "    return ngramas_frecuencia\n",
    "\n",
    "# Hallar las frecuencias de las letras\n",
    "frecuencias_letras = contar_ngramas(texto_cifrado, 1)\n",
    "\n",
    "# Calcular la frecuencia de las letras en el texto cifrado\n",
    "frecuencias_letras = dict(sorted(frecuencias_letras.items()))\n",
    "frecuencias_letras = {k: v / len(texto_cifrado) * 100 for k, v in frecuencias_letras.items()}\n",
    "frecuencias_letras = dict(sorted(frecuencias_letras.items()))\n",
    "\n",
    "# Plotear las frecuencias de las letras en el texto cifrado\n",
    "plt.figure(figsize=(10, 5))\n",
    "plt.bar(frecuencias_letras.keys(), frecuencias_letras.values())\n",
    "plt.xlabel('Letras')\n",
    "plt.ylabel('Frecuencia (%)')\n",
    "plt.title('Frecuencia de las letras en el texto cifrado')\n",
    "plt.show()"
   ]
  },
  {
   "cell_type": "markdown",
   "source": [
    "Ya tenemos las frecuencias de las letras en nuestro texto. Ahora, vamos a compararlas con las frecuencias de las letras en el idioma inglés."
   ],
   "metadata": {
    "collapsed": false
   },
   "id": "6e2cfb25ea90ca2"
  },
  {
   "cell_type": "code",
   "execution_count": 34,
   "outputs": [
    {
     "name": "stdout",
     "output_type": "stream",
     "text": [
      "Texto Cifrado   Frecuencia (%)            Idioma          Frecuencia (%)\n",
      "---------------------------------------------------------------------------\n",
      "X               15.24                     E               12.575645\n",
      "C               12.80                     T               9.085226\n",
      "J               9.76                      A               8.000395\n",
      "S               9.15                      O               7.59127\n",
      "Z               9.15                      I               6.920007\n",
      "B               6.10                      N               6.903785\n",
      "O               5.49                      S               6.34088\n",
      "M               4.88                      H               6.236609\n",
      "V               4.88                      R               5.959034\n",
      "Q               3.66                      D               4.317924\n",
      "A               2.44                      L               4.057231\n",
      "G               2.44                      U               2.841783\n",
      "P               2.44                      C               2.575785\n",
      "T               2.44                      M               2.560994\n",
      "D               1.83                      F               2.350463\n",
      "H               1.83                      W               2.224893\n",
      "N               1.83                      G               1.982677\n",
      "W               1.83                      Y               1.900888\n",
      "L               1.22                      P               1.795742\n",
      "I               0.61                      B               1.535701\n"
     ]
    }
   ],
   "source": [
    "# Definir función que imprima en orden descendente n frecuencias del texto cifrado y del idioma inglés\n",
    "def imprimir_frecuencias(frecuencias_texto, frecuencias_idioma, n):\n",
    "    # Ordenar las frecuencias del texto cifrado\n",
    "    frecuencias_texto = sorted(frecuencias_texto.items(), key=lambda item: item[1], reverse=True)[:n]\n",
    "    # Ordenar las frecuencias del idioma inglés\n",
    "    frecuencias_idioma = sorted(frecuencias_idioma.items(), key=lambda item: item[1], reverse=True)[:n]\n",
    "    \n",
    "    print(f\"{'Texto Cifrado':<15} {'Frecuencia (%)':<25} {'Idioma':<15} {'Frecuencia (%)'}\")\n",
    "    print('-' * 75)\n",
    "    \n",
    "    for i in range(min(n, len(frecuencias_texto), len(frecuencias_idioma))):\n",
    "        textocrifrado, textocifrado_frec = frecuencias_texto[i]\n",
    "        textoingles, textoingles_frec = frecuencias_idioma[i]\n",
    "        \n",
    "        print(f\"{textocrifrado:<15} {textocifrado_frec:<25.2f} {textoingles:<15} {textoingles_frec}\")\n",
    "        \n",
    "# Imprimir las frecuencias de las letras en el texto cifrado y en el idioma inglés\n",
    "imprimir_frecuencias(frecuencias_letras, frecuencias_ingles, 26)"
   ],
   "metadata": {
    "collapsed": false,
    "ExecuteTime": {
     "end_time": "2024-11-30T13:46:30.041266600Z",
     "start_time": "2024-11-30T13:46:30.025584800Z"
    }
   },
   "id": "f6d69a659414d74c"
  },
  {
   "cell_type": "markdown",
   "source": [
    "Ahora realicemos el análisis con los bigramas, trigramas y cuatrigramas.\n"
   ],
   "metadata": {
    "collapsed": false
   },
   "id": "6968b9e736106af3"
  },
  {
   "cell_type": "code",
   "execution_count": 3,
   "outputs": [
    {
     "name": "stdout",
     "output_type": "stream",
     "text": [
      "Texto Cifrado   Frecuencia (%)            Idioma          Frecuencia (%)\n",
      "---------------------------------------------------------------------------\n",
      "CJ              5.49                      TH              3.882543\n",
      "JZ              5.49                      HE              3.681391\n",
      "SC              4.27                      IN              2.283899\n",
      "XB              3.66                      ER              2.178042\n",
      "CS              3.05                      AN              2.14046\n",
      "JX              3.05                      RE              1.749394\n",
      "GX              2.44                      ND              1.571977\n",
      "MO              2.44                      ON              1.418244\n",
      "QX              2.44                      EN              1.383239\n",
      "SP              2.44                      AT              1.335523\n",
      "ZC              2.44                      OU              1.285484\n",
      "BO              1.83                      ED              1.275779\n",
      "DX              1.83                      HA              1.274742\n",
      "NS              1.83                      TO              1.169655\n",
      "OJ              1.83                      OR              1.151094\n"
     ]
    }
   ],
   "source": [
    "# Hallar las frecuencias de los bigramas\n",
    "bigrams_ingles = {\n",
    "    'TH': 3.882543, 'HE': 3.681391, 'IN': 2.283899, 'ER': 2.178042, 'AN': 2.140460,\n",
    "    'RE': 1.749394, 'ND': 1.571977, 'ON': 1.418244, 'EN': 1.383239, 'AT': 1.335523,\n",
    "    'OU': 1.285484, 'ED': 1.275779, 'HA': 1.274742, 'TO': 1.169655, 'OR': 1.151094,\n",
    "    'IT': 1.134891, 'IS': 1.109877, 'HI': 1.092302, 'ES': 1.092301, 'NG': 1.053385\n",
    "}\n",
    "\n",
    "texto_cifrado_bigrams = contar_ngramas(texto_cifrado, 2)\n",
    "\n",
    "# Calcular la frecuencia de los bigramas en el texto cifrado\n",
    "texto_cifrado_bigrams = dict(sorted(texto_cifrado_bigrams.items()))\n",
    "texto_cifrado_bigrams = {k: v / len(texto_cifrado) * 100 for k, v in texto_cifrado_bigrams.items()}\n",
    "texto_cifrado_bigrams = dict(sorted(texto_cifrado_bigrams.items()))\n",
    "\n",
    "# Imprimir las frecuencias de los bigramas en el texto cifrado y en el idioma inglés\n",
    "imprimir_frecuencias(texto_cifrado_bigrams, bigrams_ingles, 15)"
   ],
   "metadata": {
    "collapsed": false,
    "ExecuteTime": {
     "end_time": "2024-11-30T13:04:48.263389400Z",
     "start_time": "2024-11-30T13:04:48.247831700Z"
    }
   },
   "id": "2e8eb8300a463df7"
  },
  {
   "cell_type": "code",
   "execution_count": 4,
   "outputs": [
    {
     "name": "stdout",
     "output_type": "stream",
     "text": [
      "Texto Cifrado   Frecuencia (%)            Idioma          Frecuencia (%)\n",
      "---------------------------------------------------------------------------\n",
      "CJX             3.05                      THE             3.508232\n",
      "SCJ             3.05                      AND             1.593878\n",
      "CJZ             2.44                      ING             1.147042\n",
      "JXB             2.44                      HER             0.822444\n",
      "JZC             2.44                      HAT             0.650715\n",
      "BOV             1.83                      HIS             0.596748\n",
      "NSP             1.83                      THA             0.593593\n",
      "OJZ             1.83                      ERE             0.560594\n",
      "OVQ             1.83                      FOR             0.555372\n",
      "VQX             1.83                      ENT             0.530771\n",
      "XBO             1.83                      ION             0.506454\n",
      "AAX             1.22                      TER             0.461099\n",
      "AXZ             1.22                      WAS             0.460487\n",
      "CNS             1.22                      YOU             0.437213\n",
      "CSC             1.22                      ITH             0.43125\n",
      "CSG             1.22                      VER             0.430732\n",
      "GXS             1.22                      ALL             0.422758\n",
      "GXX             1.22                      WIT             0.39729\n",
      "JZD             1.22                      THI             0.394796\n",
      "JZM             1.22                      TIO             0.378058\n"
     ]
    }
   ],
   "source": [
    "# Hallar las frecuencias de los trigramas\n",
    "trigramas_ingles = {\n",
    "    'THE': 3.508232,\n",
    "    'AND': 1.593878,\n",
    "    'ING': 1.147042,\n",
    "    'HER': 0.822444,\n",
    "    'HAT': 0.650715,\n",
    "    'HIS': 0.596748,\n",
    "    'THA': 0.593593,\n",
    "    'ERE': 0.560594,\n",
    "    'FOR': 0.555372,\n",
    "    'ENT': 0.530771,\n",
    "    'ION': 0.506454,\n",
    "    'TER': 0.461099,\n",
    "    'WAS': 0.460487,\n",
    "    'YOU': 0.437213,\n",
    "    'ITH': 0.431250,\n",
    "    'VER': 0.430732,\n",
    "    'ALL': 0.422758,\n",
    "    'WIT': 0.397290,\n",
    "    'THI': 0.394796,\n",
    "    'TIO': 0.378058\n",
    "}\n",
    "\n",
    "texto_cifrado_trigrams = contar_ngramas(texto_cifrado, 3)\n",
    "\n",
    "# Calcular la frecuencia de los trigramas en el texto cifrado\n",
    "texto_cifrado_trigrams = dict(sorted(texto_cifrado_trigrams.items()))\n",
    "texto_cifrado_trigrams = {k: v / len(texto_cifrado) * 100 for k, v in texto_cifrado_trigrams.items()}\n",
    "texto_cifrado_trigrams = dict(sorted(texto_cifrado_trigrams.items()))\n",
    "\n",
    "# Imprimir las frecuencias de los trigramas en el texto cifrado y en el idioma inglés\n",
    "imprimir_frecuencias(texto_cifrado_trigrams, trigramas_ingles, 20)\n"
   ],
   "metadata": {
    "collapsed": false,
    "ExecuteTime": {
     "end_time": "2024-11-30T13:04:48.358071900Z",
     "start_time": "2024-11-30T13:04:48.262880400Z"
    }
   },
   "id": "717b24a8d41b6dd6"
  },
  {
   "cell_type": "code",
   "execution_count": 5,
   "outputs": [
    {
     "name": "stdout",
     "output_type": "stream",
     "text": [
      "Texto Cifrado   Frecuencia (%)            Idioma          Frecuencia (%)\n",
      "---------------------------------------------------------------------------\n",
      "SCJX            3.05                      THAT            0.761242\n",
      "CJXB            2.44                      THER            0.604501\n",
      "BOVQ            1.83                      WITH            0.573866\n",
      "JXBO            1.83                      TION            0.551919\n",
      "OJZC            1.83                      HERE            0.374549\n",
      "OVQX            1.83                      OULD            0.36992\n",
      "XBOV            1.83                      IGHT            0.30944\n",
      "AAXZ            1.22                      HAVE            0.290544\n",
      "AXZB            1.22                      HICH            0.284292\n",
      "CJZM            1.22                      WHIC            0.283826\n",
      "CNSP            1.22                      THIS            0.276333\n",
      "CSCJ            1.22                      THIN            0.270413\n",
      "CSGX            1.22                      THEY            0.262421\n",
      "GXSC            1.22                      ATIO            0.262386\n",
      "GXXM            1.22                      EVER            0.260695\n",
      "JZCN            1.22                      FROM            0.25858\n",
      "JZDX            1.22                      OUGH            0.253447\n",
      "JZMO            1.22                      WERE            0.231089\n",
      "MOJZ            1.22                      HING            0.229944\n"
     ]
    }
   ],
   "source": [
    "# Hallar las frecuencias de los cuatrigramas\n",
    "cuatrigramas_ingles = {\n",
    "    \"THAT\": 0.761242,\n",
    "    \"THER\": 0.604501,\n",
    "    \"WITH\": 0.573866,\n",
    "    \"TION\": 0.551919,\n",
    "    \"HERE\": 0.374549,\n",
    "    \"OULD\": 0.369920,\n",
    "    \"IGHT\": 0.309440,\n",
    "    \"HAVE\": 0.290544,\n",
    "    \"HICH\": 0.284292,\n",
    "    \"WHIC\": 0.283826,\n",
    "    \"THIS\": 0.276333,\n",
    "    \"THIN\": 0.270413,\n",
    "    \"THEY\": 0.262421,\n",
    "    \"ATIO\": 0.262386,\n",
    "    \"EVER\": 0.260695,\n",
    "    \"FROM\": 0.258580,\n",
    "    \"OUGH\": 0.253447,\n",
    "    \"WERE\": 0.231089,\n",
    "    \"HING\": 0.229944\n",
    "}\n",
    "\n",
    "# Contar los cuatrigramas en el texto cifrado\n",
    "texto_cifrado_cuatrigrams = contar_ngramas(texto_cifrado, 4)\n",
    "\n",
    "# Calcular la frecuencia de los cuatrigramas en el texto cifrado\n",
    "texto_cifrado_cuatrigrams = dict(sorted(texto_cifrado_cuatrigrams.items()))\n",
    "texto_cifrado_cuatrigrams = {k: v / len(texto_cifrado) * 100 for k, v in texto_cifrado_cuatrigrams.items()}\n",
    "texto_cifrado_cuatrigrams = dict(sorted(texto_cifrado_cuatrigrams.items()))\n",
    "\n",
    "# Imprimir las frecuencias de los cuatrigramas en el texto cifrado y en el idioma inglés\n",
    "imprimir_frecuencias(texto_cifrado_cuatrigrams, cuatrigramas_ingles, 20)"
   ],
   "metadata": {
    "collapsed": false,
    "ExecuteTime": {
     "end_time": "2024-11-30T13:04:48.358071900Z",
     "start_time": "2024-11-30T13:04:48.273091500Z"
    }
   },
   "id": "dbc343290fa28877"
  },
  {
   "cell_type": "markdown",
   "source": [
    "En primer lugar, con el análisis de frecuencias por monogramas, reemplacemos las 3 letras más repetidas y las 3 que menos se repiten. Así, tenemos que:\n",
    "\n",
    "- $X \\rightarrow e$\n",
    "- $C \\rightarrow t$\n",
    "- $J \\rightarrow a$\n",
    "- $W \\rightarrow y$\n",
    "- $L \\rightarrow p$\n",
    "- $I \\rightarrow b$"
   ],
   "metadata": {
    "collapsed": false
   },
   "id": "93714311f9e1211d"
  },
  {
   "cell_type": "code",
   "execution_count": 6,
   "outputs": [
    {
     "name": "stdout",
     "output_type": "stream",
     "text": [
      ".e.e....y..e.....epb..tt..e.tae....eta...a.t.t..yat...e..t..tae..ta.t.a.t....e.e....yata..e.ee......t.tae....eta...a.t...a...ee....p.a..e...e..e.t.tae.t..e.tae....e\n"
     ]
    }
   ],
   "source": [
    "# Definir un diccionario con las letras reemplazadas\n",
    "reemplazos = {\n",
    "    'X': 'e',\n",
    "    'C': 't',\n",
    "    'J': 'a',\n",
    "    'W': 'y',\n",
    "    'L': 'p',\n",
    "    'I': 'b'\n",
    "}\n",
    "\n",
    "# Reemplazar las letras en el texto cifrado\n",
    "texto_cifrado_reemplazado = ''.join([reemplazos[letra] if letra in reemplazos else '.' for letra in texto_cifrado])\n",
    "\n",
    "# Imprimir como se ve el texto cifrado reemplazado\n",
    "print(texto_cifrado_reemplazado)"
   ],
   "metadata": {
    "collapsed": false,
    "ExecuteTime": {
     "end_time": "2024-11-30T13:04:48.358071900Z",
     "start_time": "2024-11-30T13:04:48.273600300Z"
    }
   },
   "id": "a3ed6a2e076094a5"
  },
  {
   "cell_type": "markdown",
   "source": [
    "Sin embargo, analizando los bigramas, hay alta probabilidad de que $J \\rightarrow h$, por lo que, cambiemos la asignación:"
   ],
   "metadata": {
    "collapsed": false
   },
   "id": "f5346cdede01f75"
  },
  {
   "cell_type": "code",
   "execution_count": 9,
   "outputs": [
    {
     "name": "stdout",
     "output_type": "stream",
     "text": [
      ".e.e....y..e.....epb..tt..e.the....eth...h.t.t..yht...e..t..the..th.t.h.t....e.e....yhth..e.ee......t.the....eth...h.t...h...ee....p.h..e...e..e.t.the.t..e.the....e\n"
     ]
    }
   ],
   "source": [
    "# Definir un diccionario con las letras reemplazadas\n",
    "reemplazos = {\n",
    "    'X': 'e',\n",
    "    'C': 't',\n",
    "    'J': 'h',\n",
    "    'W': 'y',\n",
    "    'L': 'p',\n",
    "    'I': 'b'\n",
    "}\n",
    "\n",
    "# Reemplazar las letras en el texto cifrado\n",
    "texto_cifrado_reemplazado = ''.join([reemplazos[letra] if letra in reemplazos else '.' for letra in texto_cifrado])\n",
    "\n",
    "# Imprimir como se ve el texto cifrado reemplazado\n",
    "print(texto_cifrado_reemplazado)"
   ],
   "metadata": {
    "collapsed": false,
    "ExecuteTime": {
     "end_time": "2024-11-30T13:09:49.328870600Z",
     "start_time": "2024-11-30T13:09:49.318550900Z"
    }
   },
   "id": "fbfde116c5ba52c7"
  },
  {
   "cell_type": "markdown",
   "source": [
    "Por los bigramas, podemos intentar $B \\rightarrow r$ y $Z \\rightarrow a$."
   ],
   "metadata": {
    "collapsed": false
   },
   "id": "c7213904cc47b007"
  },
  {
   "cell_type": "code",
   "execution_count": 11,
   "outputs": [
    {
     "name": "stdout",
     "output_type": "stream",
     "text": [
      ".e.er..ay..e...r.epb..tt..e.ther...etha..hat.t..yhta..eart..ther.that.hat....ere.r..yhtha.e.ee..a...t.ther...etha..hat...ha..ee....p.ha.ea..eare.t.the.t..e.ther...e\n"
     ]
    }
   ],
   "source": [
    "# Definir un diccionario con las letras reemplazadas\n",
    "reemplazos = {\n",
    "    'X': 'e',\n",
    "    'C': 't',\n",
    "    'J': 'h',\n",
    "    'W': 'y',\n",
    "    'L': 'p',\n",
    "    'I': 'b',\n",
    "    'B': 'r',\n",
    "    'Z': 'a'\n",
    "}\n",
    "\n",
    "# Reemplazar las letras en el texto cifrado\n",
    "texto_cifrado_reemplazado = ''.join([reemplazos[letra] if letra in reemplazos else '.' for letra in texto_cifrado])\n",
    "\n",
    "# Imprimir como se ve el texto cifrado reemplazado\n",
    "print(texto_cifrado_reemplazado)"
   ],
   "metadata": {
    "collapsed": false,
    "ExecuteTime": {
     "end_time": "2024-11-30T13:15:18.624659400Z",
     "start_time": "2024-11-30T13:15:18.605937500Z"
    }
   },
   "id": "7206ff5064b2741f"
  },
  {
   "cell_type": "markdown",
   "source": [
    "De los trigramas que restan, puede existir la posibilidad de que $CNS \\rightarrow tio$."
   ],
   "metadata": {
    "collapsed": false
   },
   "id": "b117e94886db529d"
  },
  {
   "cell_type": "code",
   "execution_count": 23,
   "outputs": [
    {
     "name": "stdout",
     "output_type": "stream",
     "text": [
      ".e.er..ay..eio.r.epb.otto.eother...etha..hat.t..yhta..eartoother.that.hatio..ereor..yhtha.e.ee..a..otother...etha..hatio.ha..ee..o.p.ha.ea..eare.tothe.to.eother...e\n"
     ]
    }
   ],
   "source": [
    "# Definir un diccionario con las letras reemplazadas\n",
    "reemplazos = {\n",
    "    'X': 'e',\n",
    "    'C': 't',\n",
    "    'J': 'h',\n",
    "    'W': 'y',\n",
    "    'L': 'p',\n",
    "    'I': 'b',\n",
    "    'B': 'r',\n",
    "    'Z': 'a',\n",
    "    'N': 'i',\n",
    "    'S': 'o',\n",
    "}\n",
    "\n",
    "# Reemplazar las letras en el texto cifrado\n",
    "texto_cifrado_reemplazado = ''.join([reemplazos[letra] if letra in reemplazos else '.' for letra in texto_cifrado])\n",
    "\n",
    "# Imprimir como se ve el texto cifrado reemplazado\n",
    "print(texto_cifrado_reemplazado)"
   ],
   "metadata": {
    "collapsed": false,
    "ExecuteTime": {
     "end_time": "2024-11-30T13:43:04.318776700Z",
     "start_time": "2024-11-30T13:43:04.302791300Z"
    }
   },
   "id": "5155987bb3a4635d"
  },
  {
   "cell_type": "markdown",
   "source": [
    "Un fragmento de la palabra dice \"other . that\", lo cual probablemente corresponderá a \"others that\". Por lo tanto, $Q \\rightarrow s$."
   ],
   "metadata": {
    "collapsed": false
   },
   "id": "865b28312fcda705"
  },
  {
   "cell_type": "code",
   "execution_count": 24,
   "outputs": [
    {
     "name": "stdout",
     "output_type": "stream",
     "text": [
      ".e.er..ay..eio.rsepb.otto.eother..setha..hat.t..yhta..eartoothersthat.hatio..ereor..yhtha.e.ee..as.otother..setha..hatio.ha..ee..o.p.ha.ea..eare.tothe.to.eother..se\n"
     ]
    }
   ],
   "source": [
    "# Definir un diccionario con las letras reemplazadas\n",
    "reemplazos = {\n",
    "    'X': 'e',\n",
    "    'C': 't',\n",
    "    'J': 'h',\n",
    "    'W': 'y',\n",
    "    'L': 'p',\n",
    "    'I': 'b',\n",
    "    'B': 'r',\n",
    "    'Z': 'a',\n",
    "    'N': 'i',\n",
    "    'S': 'o',\n",
    "    'Q': 's'\n",
    "}\n",
    "\n",
    "# Reemplazar las letras en el texto cifrado\n",
    "texto_cifrado_reemplazado = ''.join([reemplazos[letra] if letra in reemplazos else '.' for letra in texto_cifrado])\n",
    "\n",
    "# Imprimir como se ve el texto cifrado reemplazado\n",
    "print(texto_cifrado_reemplazado)"
   ],
   "metadata": {
    "collapsed": false,
    "ExecuteTime": {
     "end_time": "2024-11-30T13:43:04.980639400Z",
     "start_time": "2024-11-30T13:43:04.965361700Z"
    }
   },
   "id": "a052832d3c8627c4"
  },
  {
   "cell_type": "markdown",
   "source": [
    "Hay dos palabras que se repiten, \"other..se\", lo cual probablemente corresponderá a \"otherwise\". Por lo tanto, $O \\rightarrow w$ y $V \\rightarrow i$ y supone que $N \\rightarrow i$ fue incorrecto."
   ],
   "metadata": {
    "collapsed": false
   },
   "id": "6bca928bd1a0cf47"
  },
  {
   "cell_type": "code",
   "execution_count": 35,
   "outputs": [
    {
     "name": "stdout",
     "output_type": "stream",
     "text": [
      ".e.eri.ayi.e.o.rsepb.otto.eotherwisetha.whatit.iyhta..eartoothersthatwhat.o.wereor.iyhtha.e.ee.was.ototherwisetha.what.o.ha..ee.wo.p.ha.ea..eare.tothe.to.eotherwise\n"
     ]
    }
   ],
   "source": [
    "# Definir un diccionario con las letras reemplazadas\n",
    "reemplazos = {\n",
    "    'X': 'e',\n",
    "    'C': 't',\n",
    "    'J': 'h',\n",
    "    'W': 'y',\n",
    "    'L': 'p',\n",
    "    'I': 'b',\n",
    "    'B': 'r',\n",
    "    'Z': 'a',\n",
    "    'S': 'o',\n",
    "    'Q': 's',\n",
    "    'O': 'w',\n",
    "    'V': 'i'\n",
    "}\n",
    "\n",
    "# Reemplazar las letras en el texto cifrado\n",
    "texto_cifrado_reemplazado = ''.join([reemplazos[letra] if letra in reemplazos else '.' for letra in texto_cifrado])\n",
    "\n",
    "# Imprimir como se ve el texto cifrado reemplazado\n",
    "print(texto_cifrado_reemplazado)"
   ],
   "metadata": {
    "collapsed": false,
    "ExecuteTime": {
     "end_time": "2024-11-30T13:47:38.648281600Z",
     "start_time": "2024-11-30T13:47:38.632174100Z"
    }
   },
   "id": "d41828bad2c1358e"
  },
  {
   "cell_type": "markdown",
   "source": [
    "\"otherwise tha. what it\" probablemente corresponda a \"otherwise than what it\". Por lo tanto, $M \\rightarrow n$."
   ],
   "metadata": {
    "collapsed": false
   },
   "id": "2313caa681e81185"
  },
  {
   "cell_type": "code",
   "execution_count": 36,
   "outputs": [
    {
     "name": "stdout",
     "output_type": "stream",
     "text": [
      "ne.eri.ayine.o.rsepbnotto.eotherwisethanwhatit.iyhta..eartoothersthatwhat.o.wereor.iyhtha.e.eenwasnototherwisethanwhat.o.ha..eenwo.p.ha.ea..eare.tothe.to.eotherwise\n"
     ]
    }
   ],
   "source": [
    "# Definir un diccionario con las letras reemplazadas\n",
    "reemplazos = {\n",
    "    'X': 'e',\n",
    "    'C': 't',\n",
    "    'J': 'h',\n",
    "    'W': 'y',\n",
    "    'L': 'p',\n",
    "    'I': 'b',\n",
    "    'B': 'r',\n",
    "    'Z': 'a',\n",
    "    'S': 'o',\n",
    "    'Q': 's',\n",
    "    'O': 'w',\n",
    "    'V': 'i',\n",
    "    'M': 'n'\n",
    "}\n",
    "\n",
    "# Reemplazar las letras en el texto cifrado\n",
    "texto_cifrado_reemplazado = ''.join([reemplazos[letra] if letra in reemplazos else '.' for letra in texto_cifrado])\n",
    "\n",
    "# Imprimir como se ve el texto cifrado reemplazado\n",
    "print(texto_cifrado_reemplazado)"
   ],
   "metadata": {
    "collapsed": false,
    "ExecuteTime": {
     "end_time": "2024-11-30T13:47:45.231167900Z",
     "start_time": "2024-11-30T13:47:45.223686100Z"
    }
   },
   "id": "16d98c966d2e8716"
  },
  {
   "cell_type": "markdown",
   "source": [
    "La primer palabra probablemente es \"never\", por lo que $D \\rightarrow v$."
   ],
   "metadata": {
    "collapsed": false
   },
   "id": "f8e25dc78b884e6d"
  },
  {
   "cell_type": "code",
   "execution_count": 45,
   "outputs": [
    {
     "name": "stdout",
     "output_type": "stream",
     "text": [
      "neveri.ayine.o.rsepbnotto.eotherwisethanwhatit.iyhta..eartoothersthatwhat.o.wereor.iyhthave.eenwasnototherwisethanwhat.o.ha..eenwo.p.havea..eare.tothe.to.eotherwise\n"
     ]
    }
   ],
   "source": [
    "# Definir un diccionario con las letras reemplazadas\n",
    "reemplazos = {\n",
    "    'X': 'e',\n",
    "    'C': 't',\n",
    "    'J': 'h',\n",
    "    'W': 'y',\n",
    "    'L': 'p',\n",
    "    'I': 'b',\n",
    "    'B': 'r',\n",
    "    'Z': 'a',\n",
    "    'S': 'o',\n",
    "    'Q': 's',\n",
    "    'O': 'w',\n",
    "    'V': 'i',\n",
    "    'M': 'n',\n",
    "    'D': 'v'\n",
    "}\n",
    "\n",
    "# Reemplazar las letras en el texto cifrado\n",
    "texto_cifrado_reemplazado = ''.join([reemplazos[letra] if letra in reemplazos else '.' for letra in texto_cifrado])\n",
    "\n",
    "# Imprimir como se ve el texto cifrado reemplazado\n",
    "print(texto_cifrado_reemplazado)"
   ],
   "metadata": {
    "collapsed": false,
    "ExecuteTime": {
     "end_time": "2024-11-30T13:49:10.878580300Z",
     "start_time": "2024-11-30T13:49:10.867829900Z"
    }
   },
   "id": "90fc7ea8a438d6b3"
  },
  {
   "cell_type": "markdown",
   "source": [
    "Hay dos fragmentos que acaban en \"enn\", probablemente correspondan a \"been\". Por lo tanto, $G \\rightarrow b$ y que $I \\rightarrow b$ fue incorrecto."
   ],
   "metadata": {
    "collapsed": false
   },
   "id": "4556383d0f646ab8"
  },
  {
   "cell_type": "code",
   "execution_count": 46,
   "outputs": [
    {
     "name": "stdout",
     "output_type": "stream",
     "text": [
      "neveri.ayine.o.rsep.nottobeotherwisethanwhatit.iyhta..eartoothersthatwhat.o.wereor.iyhthavebeenwasnototherwisethanwhat.o.ha.beenwo.p.havea..eare.tothe.tobeotherwise\n"
     ]
    }
   ],
   "source": [
    "# Definir un diccionario con las letras reemplazadas\n",
    "reemplazos = {\n",
    "    'X': 'e',\n",
    "    'C': 't',\n",
    "    'J': 'h',\n",
    "    'W': 'y',\n",
    "    'L': 'p',\n",
    "    'B': 'r',\n",
    "    'Z': 'a',\n",
    "    'S': 'o',\n",
    "    'Q': 's',\n",
    "    'O': 'w',\n",
    "    'V': 'i',\n",
    "    'M': 'n',\n",
    "    'D': 'v',\n",
    "    'G': 'b'\n",
    "}\n",
    "\n",
    "# Reemplazar las letras en el texto cifrado\n",
    "texto_cifrado_reemplazado = ''.join([reemplazos[letra] if letra in reemplazos else '.' for letra in texto_cifrado])\n",
    "\n",
    "# Imprimir como se ve el texto cifrado reemplazado\n",
    "print(texto_cifrado_reemplazado)"
   ],
   "metadata": {
    "collapsed": false,
    "ExecuteTime": {
     "end_time": "2024-11-30T13:49:33.206788100Z",
     "start_time": "2024-11-30T13:49:33.204425900Z"
    }
   },
   "id": "9723f494468caec4"
  },
  {
   "cell_type": "markdown",
   "source": [
    "El final podría ser \"to them to be otherwise\", por lo que $T \\rightarrow m$."
   ],
   "metadata": {
    "collapsed": false
   },
   "id": "ce44bbe55f7a6626"
  },
  {
   "cell_type": "code",
   "execution_count": 47,
   "outputs": [
    {
     "name": "stdout",
     "output_type": "stream",
     "text": [
      "neverimayine.o.rsep.nottobeotherwisethanwhatitmiyhta..eartoothersthatwhat.o.wereormiyhthavebeenwasnototherwisethanwhat.o.ha.beenwo.p.havea..eare.tothemtobeotherwise\n"
     ]
    }
   ],
   "source": [
    "# Definir un diccionario con las letras reemplazadas\n",
    "reemplazos = {\n",
    "    'X': 'e',\n",
    "    'C': 't',\n",
    "    'J': 'h',\n",
    "    'W': 'y',\n",
    "    'L': 'p',\n",
    "    'B': 'r',\n",
    "    'Z': 'a',\n",
    "    'S': 'o',\n",
    "    'Q': 's',\n",
    "    'O': 'w',\n",
    "    'V': 'i',\n",
    "    'M': 'n',\n",
    "    'D': 'v',\n",
    "    'G': 'b',\n",
    "    'T': 'm'\n",
    "}\n",
    "\n",
    "# Reemplazar las letras en el texto cifrado\n",
    "texto_cifrado_reemplazado = ''.join([reemplazos[letra] if letra in reemplazos else '.' for letra in texto_cifrado])\n",
    "\n",
    "# Imprimir como se ve el texto cifrado reemplazado\n",
    "print(texto_cifrado_reemplazado)"
   ],
   "metadata": {
    "collapsed": false,
    "ExecuteTime": {
     "end_time": "2024-11-30T13:49:35.814761100Z",
     "start_time": "2024-11-30T13:49:35.783502400Z"
    }
   },
   "id": "3e3a8ad9990846e5"
  },
  {
   "cell_type": "markdown",
   "source": [
    "Parece que tenemos un error, la primer frase parece ser \"never imagine\", por lo que $W \\rightarrow g$."
   ],
   "metadata": {
    "collapsed": false
   },
   "id": "3e3095ecca3161be"
  },
  {
   "cell_type": "code",
   "execution_count": 48,
   "outputs": [
    {
     "name": "stdout",
     "output_type": "stream",
     "text": [
      "neverimagine.o.rsep.nottobeotherwisethanwhatitmighta..eartoothersthatwhat.o.wereormighthavebeenwasnototherwisethanwhat.o.ha.beenwo.p.havea..eare.tothemtobeotherwise\n"
     ]
    }
   ],
   "source": [
    "# Definir un diccionario con las letras reemplazadas\n",
    "reemplazos = {\n",
    "    'X': 'e',\n",
    "    'C': 't',\n",
    "    'J': 'h',\n",
    "    'L': 'p',\n",
    "    'B': 'r',\n",
    "    'Z': 'a',\n",
    "    'S': 'o',\n",
    "    'Q': 's',\n",
    "    'O': 'w',\n",
    "    'V': 'i',\n",
    "    'M': 'n',\n",
    "    'D': 'v',\n",
    "    'G': 'b',\n",
    "    'T': 'm',\n",
    "    'W': 'g'\n",
    "}\n",
    "\n",
    "# Reemplazar las letras en el texto cifrado\n",
    "texto_cifrado_reemplazado = ''.join([reemplazos[letra] if letra in reemplazos else '.' for letra in texto_cifrado])\n",
    "\n",
    "# Imprimir como se ve el texto cifrado reemplazado\n",
    "print(texto_cifrado_reemplazado)"
   ],
   "metadata": {
    "collapsed": false,
    "ExecuteTime": {
     "end_time": "2024-11-30T13:49:38.321239400Z",
     "start_time": "2024-11-30T13:49:38.305224100Z"
    }
   },
   "id": "843b52155aba02cd"
  },
  {
   "cell_type": "markdown",
   "source": [
    "Por gramática, tenemos la conexión \"had been\", por lo que $H \\rightarrow d$."
   ],
   "metadata": {
    "collapsed": false
   },
   "id": "6f6845ad05d533e5"
  },
  {
   "cell_type": "code",
   "execution_count": 49,
   "outputs": [
    {
     "name": "stdout",
     "output_type": "stream",
     "text": [
      "neverimagine.o.rsep.nottobeotherwisethanwhatitmighta..eartoothersthatwhat.o.wereormighthavebeenwasnototherwisethanwhat.o.hadbeenwo.pdhavea..earedtothemtobeotherwise\n"
     ]
    }
   ],
   "source": [
    "# Definir un diccionario con las letras reemplazadas\n",
    "reemplazos = {\n",
    "    'X': 'e',\n",
    "    'C': 't',\n",
    "    'J': 'h',\n",
    "    'L': 'p',\n",
    "    'B': 'r',\n",
    "    'Z': 'a',\n",
    "    'S': 'o',\n",
    "    'Q': 's',\n",
    "    'O': 'w',\n",
    "    'V': 'i',\n",
    "    'M': 'n',\n",
    "    'D': 'v',\n",
    "    'G': 'b',\n",
    "    'T': 'm',\n",
    "    'W': 'g',\n",
    "    'H': 'd'\n",
    "}\n",
    "\n",
    "# Reemplazar las letras en el texto cifrado\n",
    "texto_cifrado_reemplazado = ''.join([reemplazos[letra] if letra in reemplazos else '.' for letra in texto_cifrado])\n",
    "\n",
    "# Imprimir como se ve el texto cifrado reemplazado\n",
    "print(texto_cifrado_reemplazado)"
   ],
   "metadata": {
    "collapsed": false,
    "ExecuteTime": {
     "end_time": "2024-11-30T13:50:39.136591300Z",
     "start_time": "2024-11-30T13:50:39.129266600Z"
    }
   },
   "id": "60082f5143c4dfd"
  },
  {
   "cell_type": "markdown",
   "source": [
    "Podríamos tener la palabra \"appear to others\", por lo que $A \\rightarrow p$ y tenemos que $L \\rightarrow p$ fue incorrecto."
   ],
   "metadata": {
    "collapsed": false
   },
   "id": "2a7a04939d6d598"
  },
  {
   "cell_type": "code",
   "execution_count": 55,
   "outputs": [
    {
     "name": "stdout",
     "output_type": "stream",
     "text": [
      "neverimagine.o.rse..nottobeotherwisethanwhatitmightappeartoothersthatwhat.o.wereormighthavebeenwasnototherwisethanwhat.o.hadbeenwo..dhaveappearedtothemtobeotherwise\n"
     ]
    }
   ],
   "source": [
    "# Definir un diccionario con las letras reemplazadas\n",
    "reemplazos = {\n",
    "    'X': 'e',\n",
    "    'C': 't',\n",
    "    'J': 'h',\n",
    "    'B': 'r',\n",
    "    'Z': 'a',\n",
    "    'S': 'o',\n",
    "    'Q': 's',\n",
    "    'O': 'w',\n",
    "    'V': 'i',\n",
    "    'M': 'n',\n",
    "    'D': 'v',\n",
    "    'G': 'b',\n",
    "    'T': 'm',\n",
    "    'W': 'g',\n",
    "    'H': 'd',\n",
    "    'A': 'p'\n",
    "}\n",
    "\n",
    "# Reemplazar las letras en el texto cifrado\n",
    "texto_cifrado_reemplazado = ''.join([reemplazos[letra] if letra in reemplazos else '.' for letra in texto_cifrado])\n",
    "\n",
    "# Imprimir como se ve el texto cifrado reemplazado\n",
    "print(texto_cifrado_reemplazado)"
   ],
   "metadata": {
    "collapsed": false,
    "ExecuteTime": {
     "end_time": "2024-11-30T13:54:40.319827400Z",
     "start_time": "2024-11-30T13:54:40.314303800Z"
    }
   },
   "id": "94f6e293fd5d9674"
  },
  {
   "cell_type": "markdown",
   "source": [
    "La palabra \"appear to others that YoU were or might\" podría ser correcto, por lo que $N \\rightarrow y$ y $P \\rightarrow u$. "
   ],
   "metadata": {
    "collapsed": false
   },
   "id": "f55ca20c6ba936cc"
  },
  {
   "cell_type": "code",
   "execution_count": 56,
   "outputs": [
    {
     "name": "stdout",
     "output_type": "stream",
     "text": [
      "neverimagineyourse..nottobeotherwisethanwhatitmightappeartoothersthatwhatyouwereormighthavebeenwasnototherwisethanwhatyouhadbeenwou.dhaveappearedtothemtobeotherwise\n"
     ]
    }
   ],
   "source": [
    "# Definir un diccionario con las letras reemplazadas\n",
    "reemplazos = {\n",
    "    'X': 'e',\n",
    "    'C': 't',\n",
    "    'J': 'h',\n",
    "    'B': 'r',\n",
    "    'Z': 'a',\n",
    "    'S': 'o',\n",
    "    'Q': 's',\n",
    "    'O': 'w',\n",
    "    'V': 'i',\n",
    "    'M': 'n',\n",
    "    'D': 'v',\n",
    "    'G': 'b',\n",
    "    'T': 'm',\n",
    "    'W': 'g',\n",
    "    'H': 'd',\n",
    "    'A': 'p',\n",
    "    'N': 'y',\n",
    "    'P': 'u'\n",
    "}\n",
    "\n",
    "# Reemplazar las letras en el texto cifrado\n",
    "texto_cifrado_reemplazado = ''.join([reemplazos[letra] if letra in reemplazos else '.' for letra in texto_cifrado])\n",
    "\n",
    "# Imprimir como se ve el texto cifrado reemplazado\n",
    "print(texto_cifrado_reemplazado)"
   ],
   "metadata": {
    "collapsed": false,
    "ExecuteTime": {
     "end_time": "2024-11-30T13:54:44.975628400Z",
     "start_time": "2024-11-30T13:54:44.961224100Z"
    }
   },
   "id": "62bb3da1e8be1a10"
  },
  {
   "cell_type": "markdown",
   "source": [
    "Al parecer, tenemos la palabra \"yourself\" y la palabra \"would\", por lo que \"L \\rightarrow l\" y \"I \\rightarrow f\"."
   ],
   "metadata": {
    "collapsed": false
   },
   "id": "e6ffb65aa19276ea"
  },
  {
   "cell_type": "code",
   "execution_count": 57,
   "outputs": [
    {
     "name": "stdout",
     "output_type": "stream",
     "text": [
      "neverimagineyourselfnottobeotherwisethanwhatitmightappeartoothersthatwhatyouwereormighthavebeenwasnototherwisethanwhatyouhadbeenwouldhaveappearedtothemtobeotherwise\n"
     ]
    }
   ],
   "source": [
    "# Definir un diccionario con las letras reemplazadas\n",
    "reemplazos = {\n",
    "    'X': 'e',\n",
    "    'C': 't',\n",
    "    'J': 'h',\n",
    "    'B': 'r',\n",
    "    'Z': 'a',\n",
    "    'S': 'o',\n",
    "    'Q': 's',\n",
    "    'O': 'w',\n",
    "    'V': 'i',\n",
    "    'M': 'n',\n",
    "    'D': 'v',\n",
    "    'G': 'b',\n",
    "    'T': 'm',\n",
    "    'W': 'g',\n",
    "    'H': 'd',\n",
    "    'A': 'p',\n",
    "    'N': 'y',\n",
    "    'P': 'u',\n",
    "    'L': 'l',\n",
    "    'I': 'f'\n",
    "}\n",
    "\n",
    "# Reemplazar las letras en el texto cifrado\n",
    "texto_cifrado_reemplazado = ''.join([reemplazos[letra] if letra in reemplazos else '.' for letra in texto_cifrado])\n",
    "\n",
    "# Imprimir como se ve el texto cifrado reemplazado\n",
    "print(texto_cifrado_reemplazado)"
   ],
   "metadata": {
    "collapsed": false,
    "ExecuteTime": {
     "end_time": "2024-11-30T13:55:53.774556Z",
     "start_time": "2024-11-30T13:55:53.766158500Z"
    }
   },
   "id": "bab1a2e968653b94"
  },
  {
   "cell_type": "markdown",
   "source": [
    "## Conclusión\n",
    "Podemos ver que el texto plano obtenido tiene sentido y que, a pesar de que algunas suposiciones no eran del todo ciertas, nos permitieron llegar a la solución. Por lo que, el texto plano es:\n",
    "\n",
    "never imagine yourself not to be otherwise than what it might appear to others that what you were or might have been was not otherwise than what you had been would have appeared to them to be otherwise\n"
   ],
   "metadata": {
    "collapsed": false
   },
   "id": "f15892e0139cca3a"
  }
 ],
 "metadata": {
  "kernelspec": {
   "display_name": "Python 3",
   "language": "python",
   "name": "python3"
  },
  "language_info": {
   "codemirror_mode": {
    "name": "ipython",
    "version": 2
   },
   "file_extension": ".py",
   "mimetype": "text/x-python",
   "name": "python",
   "nbconvert_exporter": "python",
   "pygments_lexer": "ipython2",
   "version": "2.7.6"
  }
 },
 "nbformat": 4,
 "nbformat_minor": 5
}
