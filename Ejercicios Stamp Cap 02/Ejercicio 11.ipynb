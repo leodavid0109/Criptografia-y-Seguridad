{
 "cells": [
  {
   "cell_type": "markdown",
   "source": [
    "# Punto 11\n",
    "Determinar el Texto Plano y la Llave del Texto Cifrado que se Muestra a Continuación:\n",
    "\n",
    "$$ GBSXUCGSZQGKGSQPKQKGLSKASPCGBGBKGUKGCEUKUZKGGBSQEICA $$\n",
    "$$ CGKGCEUERWKLKUPKQQGCIICUAEUVSHQKGCEUPCGBCGQOEVSHUNSU $$\n",
    "$$ GKUZCGQSNLSHEHIEEDCUOGEPKHZGBSNKCUGSUKUASERLSKASCUGB $$\n",
    "$$ SLKACRCACUZSSZEUSBEXHKRGSHWKLKUSQSKCHQTXKZHEUQBKZAEN $$\n",
    "$$ NSUASZFENFCUOCUEKBXGBSWKLKUSQSKNFKQQKZEHGEGBSXUCGSZQ $$\n",
    "$$ GKGSQKUZBCQAEIISKOXSZSICVSHSZGEGBSQSAHSGKHMERQGKGSKR $$\n",
    "$$ EHNKIHSLIMGEKHSASUGKNSHCAKUNSQQKOSPBCISGBCQHSLIMQGKG $$\n",
    "$$ SZGBKGCGQSSNSZXQSISQQGEAEUGCUXSGBSSJCQGCUOZCLIENKGCA $$\n",
    "$$ USOEGCKGCEUQCGAEUGKCUSZUEGBHSKGEHBCUGERPKHEHKHNSZKGGKAD $$\n",
    "\n",
    "*Pista:* El mensaje fue encriptado con un cifrador de sustitución simple.\n",
    "\n",
    "Podemos solucionarlo mediante análisis de frecuencias"
   ],
   "metadata": {
    "collapsed": false
   },
   "id": "afe746ebdcdbc727"
  },
  {
   "cell_type": "code",
   "execution_count": 1,
   "id": "initial_id",
   "metadata": {
    "collapsed": true,
    "ExecuteTime": {
     "end_time": "2024-12-02T02:55:58.131752800Z",
     "start_time": "2024-12-02T02:55:56.740113100Z"
    }
   },
   "outputs": [
    {
     "data": {
      "text/plain": "<Figure size 1000x500 with 1 Axes>",
      "image/png": "[encoded data removed]"
     },
     "metadata": {},
     "output_type": "display_data"
    }
   ],
   "source": [
    "import matplotlib.pyplot as plt\n",
    "from collections import Counter\n",
    "\n",
    "# Definimos el texto cifrado\n",
    "texto_cifrado = 'GBSXUCGSZQGKGSQPKQKGLSKASPCGBGBKGUKGCEUKUZKGGBSQEICACGKGCEUERWKLKUPKQQGCIICUAEUVSHQKGCEUPCGBCGQOEVSHUNSUGKUZCGQSNLSHEHIEEDCUOGEPKHZGBSNKCUGSUKUASERLSKASCUGBSLKACRCACUZSSZEUSBEXHKRGSHWKLKUSQSKCHQTXKZHEUQBKZAENNSUASZFENFCUOCUEKBXGBSWKLKUSQSKNFKQQKZEHGEGBSXUCGSZQGKGSQKUZBCQAEIISKOXSZSICVSHSZGEGBSQSAHSGKHMERQGKGSKREHNKIHSLIMGEKHSASUGKNSHCAKUNSQQKOSPBCISGBCQHSLIMQGKGSZGBKGCGQSSNSZXQSISQQGEAEUGCUXSGBSSJCQGCUOZCLIENKGCAUSOEGCKGCEUQCGAEUGKCUSZUEGBHSKGEHBCUGERPKHEHKHNSZKGGKAD'\n",
    "\n",
    "# Definir la frecuencia de las letras en el idioma inglés\n",
    "frecuencias_ingles = {\n",
    "    'A': 8.000395, 'B': 1.535701, 'C': 2.575785, 'D': 4.317924, 'E': 12.575645,\n",
    "    'F': 2.350463, 'G': 1.982677, 'H': 6.236609, 'I': 6.920007, 'J': 0.145188,\n",
    "    'K': 0.739906, 'L': 4.057231, 'M': 2.560994, 'N': 6.903785, 'O': 7.591270,\n",
    "    'P': 1.795742, 'Q': 0.117571, 'R': 5.959034, 'S': 6.340880, 'T': 9.085226,\n",
    "    'U': 2.841783, 'V': 0.981717, 'W': 2.224893, 'X': 0.179556, 'Y': 1.900888,\n",
    "    'Z': 0.079130\n",
    "}\n",
    "\n",
    "# Definir una función para calcular la frecuencia de los n-gramas\n",
    "def contar_ngramas(texto, n):\n",
    "    ngramas = [texto[i:i+n] for i in range(len(texto) - n + 1)]\n",
    "    ngramas_frecuencia = Counter(ngramas)\n",
    "    return ngramas_frecuencia\n",
    "\n",
    "# Hallar las frecuencias de las letras\n",
    "frecuencias_letras = contar_ngramas(texto_cifrado, 1)\n",
    "\n",
    "# Calcular la frecuencia de las letras en el texto cifrado\n",
    "frecuencias_letras = dict(sorted(frecuencias_letras.items()))\n",
    "frecuencias_letras = {k: v / len(texto_cifrado) * 100 for k, v in frecuencias_letras.items()}\n",
    "frecuencias_letras = dict(sorted(frecuencias_letras.items()))\n",
    "\n",
    "# Plotear las frecuencias de las letras en el texto cifrado\n",
    "plt.figure(figsize=(10, 5))\n",
    "plt.bar(frecuencias_letras.keys(), frecuencias_letras.values())\n",
    "plt.xlabel('Letras')\n",
    "plt.ylabel('Frecuencia (%)')\n",
    "plt.title('Frecuencia de las letras en el texto cifrado')\n",
    "plt.show()"
   ]
  },
  {
   "cell_type": "markdown",
   "source": [
    "Ya tenemos las frecuencias de las letras en nuestro texto. Ahora, vamos a compararlas con las frecuencias de las letras en el idioma inglés."
   ],
   "metadata": {
    "collapsed": false
   },
   "id": "8b2960b48534d9c3"
  },
  {
   "cell_type": "code",
   "execution_count": 2,
   "outputs": [
    {
     "name": "stdout",
     "output_type": "stream",
     "text": [
      "Texto Cifrado   Frecuencia (%)            Idioma          Frecuencia (%)\n",
      "---------------------------------------------------------------------------\n",
      "S               12.95                     E               12.575645\n",
      "G               12.10                     T               9.085226\n",
      "K               11.04                     A               8.000395\n",
      "C               8.07                      O               7.59127\n",
      "U               8.07                      I               6.920007\n",
      "E               7.43                      N               6.903785\n",
      "Q               6.37                      S               6.34088\n",
      "H               4.88                      H               6.236609\n",
      "B               4.25                      R               5.959034\n",
      "Z               4.03                      D               4.317924\n",
      "A               3.61                      L               4.057231\n",
      "I               2.76                      U               2.841783\n",
      "N               2.76                      C               2.575785\n",
      "L               2.12                      M               2.560994\n",
      "X               1.70                      F               2.350463\n",
      "O               1.49                      W               2.224893\n",
      "P               1.49                      G               1.982677\n",
      "R               1.49                      Y               1.900888\n",
      "F               0.64                      P               1.795742\n",
      "M               0.64                      B               1.535701\n",
      "V               0.64                      V               0.981717\n",
      "W               0.64                      K               0.739906\n",
      "D               0.42                      X               0.179556\n",
      "J               0.21                      J               0.145188\n",
      "T               0.21                      Q               0.117571\n"
     ]
    }
   ],
   "source": [
    "# Definir función que imprima en orden descendente n frecuencias del texto cifrado y del idioma inglés\n",
    "def imprimir_frecuencias(frecuencias_texto, frecuencias_idioma, n):\n",
    "    # Ordenar las frecuencias del texto cifrado\n",
    "    frecuencias_texto = sorted(frecuencias_texto.items(), key=lambda item: item[1], reverse=True)[:n]\n",
    "    # Ordenar las frecuencias del idioma inglés\n",
    "    frecuencias_idioma = sorted(frecuencias_idioma.items(), key=lambda item: item[1], reverse=True)[:n]\n",
    "\n",
    "    print(f\"{'Texto Cifrado':<15} {'Frecuencia (%)':<25} {'Idioma':<15} {'Frecuencia (%)'}\")\n",
    "    print('-' * 75)\n",
    "\n",
    "    for i in range(min(n, len(frecuencias_texto), len(frecuencias_idioma))):\n",
    "        textocrifrado, textocifrado_frec = frecuencias_texto[i]\n",
    "        textoingles, textoingles_frec = frecuencias_idioma[i]\n",
    "\n",
    "        print(f\"{textocrifrado:<15} {textocifrado_frec:<25.2f} {textoingles:<15} {textoingles_frec}\")\n",
    "\n",
    "\n",
    "# Imprimir las frecuencias de las letras en el texto cifrado y en el idioma inglés\n",
    "imprimir_frecuencias(frecuencias_letras, frecuencias_ingles, 26)"
   ],
   "metadata": {
    "collapsed": false,
    "ExecuteTime": {
     "end_time": "2024-12-02T02:56:12.283167700Z",
     "start_time": "2024-12-02T02:56:12.265163900Z"
    }
   },
   "id": "77d5b32a84d0a46a"
  },
  {
   "cell_type": "markdown",
   "source": [
    "Ahora realicemos el análisis con los bigramas, trigramas y cuatrigramas."
   ],
   "metadata": {
    "collapsed": false
   },
   "id": "5118f6067943af95"
  },
  {
   "cell_type": "code",
   "execution_count": 3,
   "outputs": [
    {
     "name": "stdout",
     "output_type": "stream",
     "text": [
      "Texto Cifrado   Frecuencia (%)            Idioma          Frecuencia (%)\n",
      "---------------------------------------------------------------------------\n",
      "KG              3.18                      TH              3.882543\n",
      "GB              2.97                      HE              3.681391\n",
      "CU              2.34                      IN              2.283899\n",
      "GC              2.12                      ER              2.178042\n",
      "GK              2.12                      AN              2.14046\n",
      "SZ              2.12                      RE              1.749394\n",
      "CG              1.91                      ND              1.571977\n",
      "EU              1.91                      ON              1.418244\n",
      "BS              1.70                      EN              1.383239\n",
      "GS              1.70                      AT              1.335523\n",
      "KU              1.70                      OU              1.285484\n",
      "SQ              1.70                      ED              1.275779\n",
      "GE              1.49                      HA              1.274742\n",
      "QG              1.49                      TO              1.169655\n",
      "SK              1.49                      OR              1.151094\n"
     ]
    }
   ],
   "source": [
    "# Hallar las frecuencias de los bigramas\n",
    "bigrams_ingles = {\n",
    "    'TH': 3.882543, 'HE': 3.681391, 'IN': 2.283899, 'ER': 2.178042, 'AN': 2.140460,\n",
    "    'RE': 1.749394, 'ND': 1.571977, 'ON': 1.418244, 'EN': 1.383239, 'AT': 1.335523,\n",
    "    'OU': 1.285484, 'ED': 1.275779, 'HA': 1.274742, 'TO': 1.169655, 'OR': 1.151094,\n",
    "    'IT': 1.134891, 'IS': 1.109877, 'HI': 1.092302, 'ES': 1.092301, 'NG': 1.053385\n",
    "}\n",
    "\n",
    "texto_cifrado_bigrams = contar_ngramas(texto_cifrado, 2)\n",
    "\n",
    "# Calcular la frecuencia de los bigramas en el texto cifrado\n",
    "texto_cifrado_bigrams = dict(sorted(texto_cifrado_bigrams.items()))\n",
    "texto_cifrado_bigrams = {k: v / len(texto_cifrado) * 100 for k, v in texto_cifrado_bigrams.items()}\n",
    "texto_cifrado_bigrams = dict(sorted(texto_cifrado_bigrams.items()))\n",
    "\n",
    "# Imprimir las frecuencias de los bigramas en el texto cifrado y en el idioma inglés\n",
    "imprimir_frecuencias(texto_cifrado_bigrams, bigrams_ingles, 15)"
   ],
   "metadata": {
    "collapsed": false,
    "ExecuteTime": {
     "end_time": "2024-12-02T02:56:29.413024600Z",
     "start_time": "2024-12-02T02:56:29.400500500Z"
    }
   },
   "id": "2b69a6fc7de84aa7"
  },
  {
   "cell_type": "code",
   "execution_count": 4,
   "outputs": [
    {
     "name": "stdout",
     "output_type": "stream",
     "text": [
      "Texto Cifrado   Frecuencia (%)            Idioma          Frecuencia (%)\n",
      "---------------------------------------------------------------------------\n",
      "GBS             1.70                      THE             3.508232\n",
      "KGC             1.27                      AND             1.593878\n",
      "GKG             1.06                      ING             1.147042\n",
      "CEU             0.85                      HER             0.822444\n",
      "GCE             0.85                      HAT             0.650715\n",
      "KGS             0.85                      HIS             0.596748\n",
      "QGK             0.85                      THA             0.593593\n",
      "AEU             0.64                      ERE             0.560594\n",
      "CGQ             0.64                      FOR             0.555372\n",
      "CUG             0.64                      ENT             0.530771\n",
      "CUO             0.64                      ION             0.506454\n",
      "EGB             0.64                      TER             0.461099\n",
      "GSZ             0.64                      WAS             0.460487\n",
      "KLK             0.64                      YOU             0.437213\n",
      "KUZ             0.64                      ITH             0.43125\n",
      "LKU             0.64                      VER             0.430732\n",
      "SQS             0.64                      ALL             0.422758\n",
      "UGK             0.64                      WIT             0.39729\n",
      "VSH             0.64                      THI             0.394796\n",
      "WKL             0.64                      TIO             0.378058\n"
     ]
    }
   ],
   "source": [
    "# Hallar las frecuencias de los trigramas\n",
    "trigramas_ingles = {\n",
    "    'THE': 3.508232,\n",
    "    'AND': 1.593878,\n",
    "    'ING': 1.147042,\n",
    "    'HER': 0.822444,\n",
    "    'HAT': 0.650715,\n",
    "    'HIS': 0.596748,\n",
    "    'THA': 0.593593,\n",
    "    'ERE': 0.560594,\n",
    "    'FOR': 0.555372,\n",
    "    'ENT': 0.530771,\n",
    "    'ION': 0.506454,\n",
    "    'TER': 0.461099,\n",
    "    'WAS': 0.460487,\n",
    "    'YOU': 0.437213,\n",
    "    'ITH': 0.431250,\n",
    "    'VER': 0.430732,\n",
    "    'ALL': 0.422758,\n",
    "    'WIT': 0.397290,\n",
    "    'THI': 0.394796,\n",
    "    'TIO': 0.378058\n",
    "}\n",
    "\n",
    "texto_cifrado_trigrams = contar_ngramas(texto_cifrado, 3)\n",
    "\n",
    "# Calcular la frecuencia de los trigramas en el texto cifrado\n",
    "texto_cifrado_trigrams = dict(sorted(texto_cifrado_trigrams.items()))\n",
    "texto_cifrado_trigrams = {k: v / len(texto_cifrado) * 100 for k, v in texto_cifrado_trigrams.items()}\n",
    "texto_cifrado_trigrams = dict(sorted(texto_cifrado_trigrams.items()))\n",
    "\n",
    "# Imprimir las frecuencias de los trigramas en el texto cifrado y en el idioma inglés\n",
    "imprimir_frecuencias(texto_cifrado_trigrams, trigramas_ingles, 20)\n"
   ],
   "metadata": {
    "collapsed": false,
    "ExecuteTime": {
     "end_time": "2024-12-02T02:56:38.215530200Z",
     "start_time": "2024-12-02T02:56:38.205487400Z"
    }
   },
   "id": "cb992ab5f9b462f6"
  },
  {
   "cell_type": "code",
   "execution_count": 5,
   "outputs": [
    {
     "name": "stdout",
     "output_type": "stream",
     "text": [
      "Texto Cifrado   Frecuencia (%)            Idioma          Frecuencia (%)\n",
      "---------------------------------------------------------------------------\n",
      "GCEU            0.85                      THAT            0.761242\n",
      "GKGS            0.85                      THER            0.604501\n",
      "KGCE            0.85                      WITH            0.573866\n",
      "QGKG            0.85                      TION            0.551919\n",
      "KLKU            0.64                      HERE            0.374549\n",
      "WKLK            0.64                      OULD            0.36992\n",
      "AEUG            0.42                      IGHT            0.30944\n",
      "BSXU            0.42                      HAVE            0.290544\n",
      "CGQS            0.42                      HICH            0.284292\n",
      "CGSZ            0.42                      WHIC            0.283826\n",
      "EGBS            0.42                      THIS            0.276333\n",
      "GBKG            0.42                      THIN            0.270413\n",
      "GBSQ            0.42                      THEY            0.262421\n",
      "GBSX            0.42                      ATIO            0.262386\n",
      "GEGB            0.42                      EVER            0.260695\n",
      "GSZQ            0.42                      FROM            0.25858\n",
      "HSLI            0.42                      OUGH            0.253447\n",
      "KGSQ            0.42                      WERE            0.231089\n",
      "KUSQ            0.42                      HING            0.229944\n"
     ]
    }
   ],
   "source": [
    "# Hallar las frecuencias de los cuatrigramas\n",
    "cuatrigramas_ingles = {\n",
    "    \"THAT\": 0.761242,\n",
    "    \"THER\": 0.604501,\n",
    "    \"WITH\": 0.573866,\n",
    "    \"TION\": 0.551919,\n",
    "    \"HERE\": 0.374549,\n",
    "    \"OULD\": 0.369920,\n",
    "    \"IGHT\": 0.309440,\n",
    "    \"HAVE\": 0.290544,\n",
    "    \"HICH\": 0.284292,\n",
    "    \"WHIC\": 0.283826,\n",
    "    \"THIS\": 0.276333,\n",
    "    \"THIN\": 0.270413,\n",
    "    \"THEY\": 0.262421,\n",
    "    \"ATIO\": 0.262386,\n",
    "    \"EVER\": 0.260695,\n",
    "    \"FROM\": 0.258580,\n",
    "    \"OUGH\": 0.253447,\n",
    "    \"WERE\": 0.231089,\n",
    "    \"HING\": 0.229944\n",
    "}\n",
    "\n",
    "# Contar los cuatrigramas en el texto cifrado\n",
    "texto_cifrado_cuatrigrams = contar_ngramas(texto_cifrado, 4)\n",
    "\n",
    "# Calcular la frecuencia de los cuatrigramas en el texto cifrado\n",
    "texto_cifrado_cuatrigrams = dict(sorted(texto_cifrado_cuatrigrams.items()))\n",
    "texto_cifrado_cuatrigrams = {k: v / len(texto_cifrado) * 100 for k, v in texto_cifrado_cuatrigrams.items()}\n",
    "texto_cifrado_cuatrigrams = dict(sorted(texto_cifrado_cuatrigrams.items()))\n",
    "\n",
    "# Imprimir las frecuencias de los cuatrigramas en el texto cifrado y en el idioma inglés\n",
    "imprimir_frecuencias(texto_cifrado_cuatrigrams, cuatrigramas_ingles, 20)"
   ],
   "metadata": {
    "collapsed": false,
    "ExecuteTime": {
     "end_time": "2024-12-02T02:56:46.115215200Z",
     "start_time": "2024-12-02T02:56:46.108492600Z"
    }
   },
   "id": "855ad7b337894568"
  },
  {
   "cell_type": "markdown",
   "source": [
    "En un análisis primario, podemos deducir que $GBS \\rightarrow the$"
   ],
   "metadata": {
    "collapsed": false
   },
   "id": "da9d6455a82a511b"
  },
  {
   "cell_type": "code",
   "execution_count": 8,
   "outputs": [
    {
     "name": "stdout",
     "output_type": "stream",
     "text": [
      "the...te..t.te.....t.e..e..thth.t..t.......tthe......t.t..............t.........e...t.....th.t....e...e.t....t.e..e..........t.....the....te....e...e..e..the..........ee...eh.....te......e.e............h......e..e............h.the.....e.e..........t.the...te..t.te....h......e...e.e...e.e.t.the.e..et......t.te........e...t...e.e.t..e......e....e.h..eth...e....t.te.th.t.t.ee.e...e.e..t....t...ethee...t..........t...e..t..t.....t...t...e...th.e.t..h..t..........e..tt...\n"
     ]
    }
   ],
   "source": [
    "# Definir un diccionario con las letras reemplazadas\n",
    "reemplazos = {\n",
    "    'G': 't',\n",
    "    'B': 'h',\n",
    "    'S': 'e'\n",
    "}\n",
    "\n",
    "# Reemplazar las letras en el texto cifrado\n",
    "texto_cifrado_reemplazado = ''.join([reemplazos[letra] if letra in reemplazos else '.' for letra in texto_cifrado])\n",
    "\n",
    "# Imprimir como se ve el texto cifrado reemplazado\n",
    "print(texto_cifrado_reemplazado)"
   ],
   "metadata": {
    "collapsed": false,
    "ExecuteTime": {
     "end_time": "2024-12-02T03:00:24.416242300Z",
     "start_time": "2024-12-02T03:00:24.404692200Z"
    }
   },
   "id": "36700097e6166c0d"
  },
  {
   "cell_type": "markdown",
   "source": [
    "Por los cuatrigramas, podemos suponer que $GBKG \\rightarrow that$"
   ],
   "metadata": {
    "collapsed": false
   },
   "id": "aa965227c13420d0"
  },
  {
   "cell_type": "code",
   "execution_count": 9,
   "outputs": [
    {
     "name": "stdout",
     "output_type": "stream",
     "text": [
      "the...te..tate..a.at.ea.e..ththat.at...a..atthe......tat......a.a..a..t.........e..at.....th.t....e...e.ta...t.e..e..........t..a..the.a..te.a..e...ea.e..the.a........ee...eh...a.te..a.a.e.ea.....a.....ha.....e..e...........ah.the.a.a.e.ea..a..a...t.the...te..tate.a..h......ea..e.e...e.e.t.the.e..eta.....tatea....a..e...t.a.e.e.ta.e...a..e..a.e.h..eth...e....tate.that.t.ee.e...e.e..t....t...ethee...t.........at...e..t.at.....t...ta..e...th.eat..h..t...a...a..e.atta..\n"
     ]
    }
   ],
   "source": [
    "# Definir un diccionario con las letras reemplazadas\n",
    "reemplazos = {\n",
    "    'G': 't',\n",
    "    'B': 'h',\n",
    "    'S': 'e',\n",
    "    'K': 'a'\n",
    "}\n",
    "\n",
    "# Reemplazar las letras en el texto cifrado\n",
    "texto_cifrado_reemplazado = ''.join([reemplazos[letra] if letra in reemplazos else '.' for letra in texto_cifrado])\n",
    "\n",
    "# Imprimir como se ve el texto cifrado reemplazado\n",
    "print(texto_cifrado_reemplazado)"
   ],
   "metadata": {
    "collapsed": false,
    "ExecuteTime": {
     "end_time": "2024-12-02T03:03:46.315227900Z",
     "start_time": "2024-12-02T03:03:46.297613400Z"
    }
   },
   "id": "4e8d38d7efe265e1"
  },
  {
   "cell_type": "markdown",
   "source": [
    "De los cuatrigramas y los monogramas, podemos inferir que $C \\rightarrow i$ y $E \\rightarrow o$"
   ],
   "metadata": {
    "collapsed": false
   },
   "id": "2f1c9f734cf9d6c5"
  },
  {
   "cell_type": "code",
   "execution_count": 10,
   "outputs": [
    {
     "name": "stdout",
     "output_type": "stream",
     "text": [
      "the..ite..tate..a.at.ea.e.iththat.atio.a..atthe.o.i.itatio.o..a.a..a..ti..i..o..e..atio..ithit..o.e...e.ta..it.e..e.o..oo.i..to.a..the.ai.te.a..eo..ea.ei.the.a.i.i.i..ee.o.eho..a.te..a.a.e.eai....a..o..ha..o..e..e..o..i..i.oah.the.a.a.e.ea..a..a.o.tothe..ite..tate.a..hi..o..ea..e.e.i.e.e.tothe.e..eta..o..tatea.o..a..e...toa.e.e.ta.e.i.a..e..a.e.hi.ethi..e....tate.thatit.ee.e...e.e..to.o.ti..ethee.i.ti...i..o.ati..e.otiatio..it.o.tai.e..oth.eato.hi.to..a.o.a..e.atta..\n"
     ]
    }
   ],
   "source": [
    "# Definir un diccionario con las letras reemplazadas\n",
    "reemplazos = {\n",
    "    'G': 't',\n",
    "    'B': 'h',\n",
    "    'S': 'e',\n",
    "    'K': 'a',\n",
    "    'C': 'i',\n",
    "    'E': 'o'\n",
    "}\n",
    "\n",
    "# Reemplazar las letras en el texto cifrado\n",
    "texto_cifrado_reemplazado = ''.join([reemplazos[letra] if letra in reemplazos else '.' for letra in texto_cifrado])\n",
    "\n",
    "# Imprimir como se ve el texto cifrado reemplazado\n",
    "print(texto_cifrado_reemplazado)"
   ],
   "metadata": {
    "collapsed": false,
    "ExecuteTime": {
     "end_time": "2024-12-02T03:07:00.762414200Z",
     "start_time": "2024-12-02T03:07:00.755176500Z"
    }
   },
   "id": "161e3d909f22e8be"
  },
  {
   "cell_type": "markdown",
   "source": [
    "De los bigramas, supongamos que $U \\rightarrow n$"
   ],
   "metadata": {
    "collapsed": false
   },
   "id": "fee076694a141308"
  },
  {
   "cell_type": "code",
   "execution_count": 11,
   "outputs": [
    {
     "name": "stdout",
     "output_type": "stream",
     "text": [
      "the.nite..tate..a.at.ea.e.iththatnationan.atthe.o.i.itationo..a.an.a..ti..in.on.e..ation.ithit..o.e.n.entan.it.e..e.o..oo.in.to.a..the.aintenan.eo..ea.einthe.a.i.i.in.ee.oneho..a.te..a.ane.eai....a..on.ha..o..en.e..o..in.inoah.the.a.ane.ea..a..a.o.tothe.nite..tate.an.hi..o..ea..e.e.i.e.e.tothe.e..eta..o..tatea.o..a..e...toa.e.enta.e.i.an.e..a.e.hi.ethi..e....tate.thatit.ee.e...e.e..to.ontin.ethee.i.tin..i..o.ati.ne.otiation.it.ontaine.noth.eato.hinto..a.o.a..e.atta..\n"
     ]
    }
   ],
   "source": [
    "# Definir un diccionario con las letras reemplazadas\n",
    "reemplazos = {\n",
    "    'G': 't',\n",
    "    'B': 'h',\n",
    "    'S': 'e',\n",
    "    'K': 'a',\n",
    "    'C': 'i',\n",
    "    'E': 'o',\n",
    "    'U': 'n'\n",
    "}\n",
    "\n",
    "# Reemplazar las letras en el texto cifrado\n",
    "texto_cifrado_reemplazado = ''.join([reemplazos[letra] if letra in reemplazos else '.' for letra in texto_cifrado])\n",
    "\n",
    "# Imprimir como se ve el texto cifrado reemplazado\n",
    "print(texto_cifrado_reemplazado)"
   ],
   "metadata": {
    "collapsed": false,
    "ExecuteTime": {
     "end_time": "2024-12-02T03:08:26.789829700Z",
     "start_time": "2024-12-02T03:08:26.762552900Z"
    }
   },
   "id": "4be412557bfa3e28"
  },
  {
   "cell_type": "markdown",
   "source": [
    "Por monogramas, supongamos que $Q \\rightarrow s$"
   ],
   "metadata": {
    "collapsed": false
   },
   "id": "6e113aaca4935c90"
  },
  {
   "cell_type": "code",
   "execution_count": 12,
   "outputs": [
    {
     "name": "stdout",
     "output_type": "stream",
     "text": [
      "the.nite.states.asat.ea.e.iththatnationan.attheso.i.itationo..a.an.assti..in.on.e.sation.ithits.o.e.n.entan.itse..e.o..oo.in.to.a..the.aintenan.eo..ea.einthe.a.i.i.in.ee.oneho..a.te..a.aneseai.s..a..onsha..o..en.e..o..in.inoah.the.a.anesea..assa.o.tothe.nite.statesan.his.o..ea..e.e.i.e.e.tothese..eta..o.statea.o..a..e...toa.e.enta.e.i.an.essa.e.hi.ethis.e...state.thatitsee.e..se.essto.ontin.ethee.istin..i..o.ati.ne.otiationsit.ontaine.noth.eato.hinto..a.o.a..e.atta..\n"
     ]
    }
   ],
   "source": [
    "# Definir un diccionario con las letras reemplazadas\n",
    "reemplazos = {\n",
    "    'G': 't',\n",
    "    'B': 'h',\n",
    "    'S': 'e',\n",
    "    'K': 'a',\n",
    "    'C': 'i',\n",
    "    'E': 'o',\n",
    "    'U': 'n',\n",
    "    'Q': 's'\n",
    "}\n",
    "\n",
    "# Reemplazar las letras en el texto cifrado\n",
    "texto_cifrado_reemplazado = ''.join([reemplazos[letra] if letra in reemplazos else '.' for letra in texto_cifrado])\n",
    "\n",
    "# Imprimir como se ve el texto cifrado reemplazado\n",
    "print(texto_cifrado_reemplazado)"
   ],
   "metadata": {
    "collapsed": false,
    "ExecuteTime": {
     "end_time": "2024-12-02T03:16:33.118938400Z",
     "start_time": "2024-12-02T03:16:33.111972800Z"
    }
   },
   "id": "23c0a1ae283a28f8"
  },
  {
   "cell_type": "markdown",
   "source": [
    "Podemos suponer que la primer frase es \"the united states\", por lo que $X \\rightarrow u$ y $Z \\rightarrow d$"
   ],
   "metadata": {
    "collapsed": false
   },
   "id": "cc5b211b95551fc4"
  },
  {
   "cell_type": "code",
   "execution_count": 13,
   "outputs": [
    {
     "name": "stdout",
     "output_type": "stream",
     "text": [
      "theunitedstates.asat.ea.e.iththatnationandattheso.i.itationo..a.an.assti..in.on.e.sation.ithits.o.e.n.entanditse..e.o..oo.in.to.a.dthe.aintenan.eo..ea.einthe.a.i.i.indeedonehou.a.te..a.aneseai.s.uad.onshad.o..en.ed.o..in.inoahuthe.a.anesea..assado.totheunitedstatesandhis.o..ea.uede.i.e.edtothese..eta..o.statea.o..a..e...toa.e.enta.e.i.an.essa.e.hi.ethis.e...statedthatitsee.eduse.essto.ontinuethee.istin.di..o.ati.ne.otiationsit.ontainednoth.eato.hinto..a.o.a..edatta..\n"
     ]
    }
   ],
   "source": [
    "# Definir un diccionario con las letras reemplazadas\n",
    "reemplazos = {\n",
    "    'G': 't',\n",
    "    'B': 'h',\n",
    "    'S': 'e',\n",
    "    'K': 'a',\n",
    "    'C': 'i',\n",
    "    'E': 'o',\n",
    "    'U': 'n',\n",
    "    'Q': 's',\n",
    "    'X': 'u',\n",
    "    'Z': 'd'\n",
    "}\n",
    "\n",
    "# Reemplazar las letras en el texto cifrado\n",
    "texto_cifrado_reemplazado = ''.join([reemplazos[letra] if letra in reemplazos else '.' for letra in texto_cifrado])\n",
    "\n",
    "# Imprimir como se ve el texto cifrado reemplazado\n",
    "print(texto_cifrado_reemplazado)"
   ],
   "metadata": {
    "collapsed": false,
    "ExecuteTime": {
     "end_time": "2024-12-02T03:17:44.882811800Z",
     "start_time": "2024-12-02T03:17:44.876253700Z"
    }
   },
   "id": "8b485f82520809b"
  },
  {
   "cell_type": "markdown",
   "source": [
    "Podemos ver al final del texto, la frase \"negotiations it contained no\", por lo que $A \\rightarrow c$ y $O \\rightarrow g$"
   ],
   "metadata": {
    "collapsed": false
   },
   "id": "993823017fcdc70c"
  },
  {
   "cell_type": "code",
   "execution_count": 14,
   "outputs": [
    {
     "name": "stdout",
     "output_type": "stream",
     "text": [
      "theunitedstates.asat.eace.iththatnationandattheso.icitationo..a.an.assti..incon.e.sation.ithitsgo.e.n.entanditse..e.o..oo.ingto.a.dthe.aintenanceo..eaceinthe.aci.icindeedonehou.a.te..a.aneseai.s.uad.onshadco..enced.o..inginoahuthe.a.anesea..assado.totheunitedstatesandhisco..eaguede.i.e.edtothesec.eta..o.statea.o..a..e...toa.ecenta.e.ican.essage.hi.ethis.e...statedthatitsee.eduse.esstocontinuethee.istingdi..o.aticnegotiationsitcontainednoth.eato.hinto..a.o.a..edattac.\n"
     ]
    }
   ],
   "source": [
    "# Definir un diccionario con las letras reemplazadas\n",
    "reemplazos = {\n",
    "    'G': 't',\n",
    "    'B': 'h',\n",
    "    'S': 'e',\n",
    "    'K': 'a',\n",
    "    'C': 'i',\n",
    "    'E': 'o',\n",
    "    'U': 'n',\n",
    "    'Q': 's',\n",
    "    'X': 'u',\n",
    "    'Z': 'd',\n",
    "    'A': 'c',\n",
    "    'O': 'g'\n",
    "}\n",
    "\n",
    "# Reemplazar las letras en el texto cifrado\n",
    "texto_cifrado_reemplazado = ''.join([reemplazos[letra] if letra in reemplazos else '.' for letra in texto_cifrado])\n",
    "\n",
    "# Imprimir como se ve el texto cifrado reemplazado\n",
    "print(texto_cifrado_reemplazado)"
   ],
   "metadata": {
    "collapsed": false,
    "ExecuteTime": {
     "end_time": "2024-12-02T03:21:20.685276100Z",
     "start_time": "2024-12-02T03:21:20.677702800Z"
    }
   },
   "id": "60e9a52c79a65b9c"
  },
  {
   "cell_type": "markdown",
   "source": [
    "Podemos suponer que la última palabra es \"attack\", por lo que $D \\rightarrow k$"
   ],
   "metadata": {
    "collapsed": false
   },
   "id": "63160ec90881b60b"
  },
  {
   "cell_type": "code",
   "execution_count": 15,
   "outputs": [
    {
     "name": "stdout",
     "output_type": "stream",
     "text": [
      "theunitedstates.asat.eace.iththatnationandattheso.icitationo..a.an.assti..incon.e.sation.ithitsgo.e.n.entanditse..e.o..ookingto.a.dthe.aintenanceo..eaceinthe.aci.icindeedonehou.a.te..a.aneseai.s.uad.onshadco..enced.o..inginoahuthe.a.anesea..assado.totheunitedstatesandhisco..eaguede.i.e.edtothesec.eta..o.statea.o..a..e...toa.ecenta.e.ican.essage.hi.ethis.e...statedthatitsee.eduse.esstocontinuethee.istingdi..o.aticnegotiationsitcontainednoth.eato.hinto..a.o.a..edattack\n"
     ]
    }
   ],
   "source": [
    "# Definir un diccionario con las letras reemplazadas\n",
    "reemplazos = {\n",
    "    'G': 't',\n",
    "    'B': 'h',\n",
    "    'S': 'e',\n",
    "    'K': 'a',\n",
    "    'C': 'i',\n",
    "    'E': 'o',\n",
    "    'U': 'n',\n",
    "    'Q': 's',\n",
    "    'X': 'u',\n",
    "    'Z': 'd',\n",
    "    'A': 'c',\n",
    "    'O': 'g',\n",
    "    'D': 'k'\n",
    "}\n",
    "\n",
    "# Reemplazar las letras en el texto cifrado\n",
    "texto_cifrado_reemplazado = ''.join([reemplazos[letra] if letra in reemplazos else '.' for letra in texto_cifrado])\n",
    "\n",
    "# Imprimir como se ve el texto cifrado reemplazado\n",
    "print(texto_cifrado_reemplazado)"
   ],
   "metadata": {
    "collapsed": false,
    "ExecuteTime": {
     "end_time": "2024-12-02T03:22:22.459333400Z",
     "start_time": "2024-12-02T03:22:22.452154700Z"
    }
   },
   "id": "8f26604f00a2990c"
  },
  {
   "cell_type": "markdown",
   "source": [
    "Podemos suponer la frase \"continue the existing diplomatic\", por simple contexto. Por lo que, $L \\rightarrow p$, $I \\rightarrow l$, $N \\rightarrow m$ y $J \\rightarrow x$"
   ],
   "metadata": {
    "collapsed": false
   },
   "id": "6acf767dcdb48e7c"
  },
  {
   "cell_type": "code",
   "execution_count": 29,
   "outputs": [
    {
     "name": "stdout",
     "output_type": "stream",
     "text": [
      "theunitedstates.asatpeace.iththatnationandatthesolicitationo..apan.asstillincon.e.sation.ithitsgo.e.nmentanditsempe.o.lookingto.a.dthemaintenanceo.peaceinthepaci.icindeedonehou.a.te..apaneseai.s.uad.onshadcommenced.om.inginoahuthe.apaneseam.assado.totheunitedstatesandhiscolleaguedeli.e.edtothesec.eta..o.statea.o.mal.epl.toa.ecentame.icanmessage.hilethis.epl.statedthatitseemeduselesstocontinuetheexistingdiplomaticnegotiationsitcontainednoth.eato.hinto..a.o.a.medattack\n"
     ]
    }
   ],
   "source": [
    "# Definir un diccionario con las letras reemplazadas\n",
    "reemplazos = {\n",
    "    'G': 't',\n",
    "    'B': 'h',\n",
    "    'S': 'e',\n",
    "    'K': 'a',\n",
    "    'C': 'i',\n",
    "    'E': 'o',\n",
    "    'U': 'n',\n",
    "    'Q': 's',\n",
    "    'X': 'u',\n",
    "    'Z': 'd',\n",
    "    'A': 'c',\n",
    "    'O': 'g',\n",
    "    'D': 'k',\n",
    "    'L': 'p',\n",
    "    'I': 'l',\n",
    "    'N': 'm',\n",
    "    'J': 'x'\n",
    "}\n",
    "\n",
    "# Reemplazar las letras en el texto cifrado\n",
    "texto_cifrado_reemplazado = ''.join([reemplazos[letra] if letra in reemplazos else '.' for letra in texto_cifrado])\n",
    "\n",
    "# Imprimir como se ve el texto cifrado reemplazado\n",
    "print(texto_cifrado_reemplazado)"
   ],
   "metadata": {
    "collapsed": false,
    "ExecuteTime": {
     "end_time": "2024-12-02T03:37:18.911702100Z",
     "start_time": "2024-12-02T03:37:18.903518Z"
    }
   },
   "id": "e2cd29bbb9c4d056"
  },
  {
   "cell_type": "markdown",
   "source": [
    "Hay una frase \"peace with\", por lo que $P \\rightarrow w$"
   ],
   "metadata": {
    "collapsed": false
   },
   "id": "d61d111860982982"
  },
  {
   "cell_type": "code",
   "execution_count": 30,
   "outputs": [
    {
     "name": "stdout",
     "output_type": "stream",
     "text": [
      "theunitedstateswasatpeacewiththatnationandatthesolicitationo..apanwasstillincon.e.sationwithitsgo.e.nmentanditsempe.o.lookingtowa.dthemaintenanceo.peaceinthepaci.icindeedonehou.a.te..apaneseai.s.uad.onshadcommenced.om.inginoahuthe.apaneseam.assado.totheunitedstatesandhiscolleaguedeli.e.edtothesec.eta..o.statea.o.mal.epl.toa.ecentame.icanmessagewhilethis.epl.statedthatitseemeduselesstocontinuetheexistingdiplomaticnegotiationsitcontainednoth.eato.hinto.wa.o.a.medattack\n"
     ]
    }
   ],
   "source": [
    "# Definir un diccionario con las letras reemplazadas\n",
    "reemplazos = {\n",
    "    'G': 't',\n",
    "    'B': 'h',\n",
    "    'S': 'e',\n",
    "    'K': 'a',\n",
    "    'C': 'i',\n",
    "    'E': 'o',\n",
    "    'U': 'n',\n",
    "    'Q': 's',\n",
    "    'X': 'u',\n",
    "    'Z': 'd',\n",
    "    'A': 'c',\n",
    "    'O': 'g',\n",
    "    'D': 'k',\n",
    "    'L': 'p',\n",
    "    'I': 'l',\n",
    "    'N': 'm',\n",
    "    'J': 'x',\n",
    "    'P': 'w'\n",
    "}\n",
    "\n",
    "# Reemplazar las letras en el texto cifrado\n",
    "texto_cifrado_reemplazado = ''.join([reemplazos[letra] if letra in reemplazos else '.' for letra in texto_cifrado])\n",
    "\n",
    "# Imprimir como se ve el texto cifrado reemplazado\n",
    "print(texto_cifrado_reemplazado)"
   ],
   "metadata": {
    "collapsed": false,
    "ExecuteTime": {
     "end_time": "2024-12-02T03:37:31.038987900Z",
     "start_time": "2024-12-02T03:37:31.028022500Z"
    }
   },
   "id": "54fbe6411ebcb4d2"
  },
  {
   "cell_type": "markdown",
   "source": [
    "Por monogramas, debería ir $H \\rightarrow r$"
   ],
   "metadata": {
    "collapsed": false
   },
   "id": "8901f1b72b691550"
  },
  {
   "cell_type": "code",
   "execution_count": 31,
   "outputs": [
    {
     "name": "stdout",
     "output_type": "stream",
     "text": [
      "theunitedstateswasatpeacewiththatnationandatthesolicitationo..apanwasstillincon.ersationwithitsgo.ernmentanditsemperorlookingtowardthemaintenanceo.peaceinthepaci.icindeedonehoura.ter.apaneseairs.uadronshadcommenced.om.inginoahuthe.apaneseam.assadortotheunitedstatesandhiscolleaguedeli.eredtothesecretar.o.statea.ormalrepl.toarecentamericanmessagewhilethisrepl.statedthatitseemeduselesstocontinuetheexistingdiplomaticnegotiationsitcontainednothreatorhinto.warorarmedattack\n"
     ]
    }
   ],
   "source": [
    "# Definir un diccionario con las letras reemplazadas\n",
    "reemplazos = {\n",
    "    'G': 't',\n",
    "    'B': 'h',\n",
    "    'S': 'e',\n",
    "    'K': 'a',\n",
    "    'C': 'i',\n",
    "    'E': 'o',\n",
    "    'U': 'n',\n",
    "    'Q': 's',\n",
    "    'X': 'u',\n",
    "    'Z': 'd',\n",
    "    'A': 'c',\n",
    "    'O': 'g',\n",
    "    'D': 'k',\n",
    "    'L': 'p',\n",
    "    'I': 'l',\n",
    "    'N': 'm',\n",
    "    'J': 'x',\n",
    "    'P': 'w',\n",
    "    'H': 'r'\n",
    "}\n",
    "\n",
    "# Reemplazar las letras en el texto cifrado\n",
    "texto_cifrado_reemplazado = ''.join([reemplazos[letra] if letra in reemplazos else '.' for letra in texto_cifrado])\n",
    "\n",
    "# Imprimir como se ve el texto cifrado reemplazado\n",
    "print(texto_cifrado_reemplazado)"
   ],
   "metadata": {
    "collapsed": false,
    "ExecuteTime": {
     "end_time": "2024-12-02T03:37:37.327065800Z",
     "start_time": "2024-12-02T03:37:37.319509Z"
    }
   },
   "id": "fcf5febda0035438"
  },
  {
   "cell_type": "markdown",
   "source": [
    "La frase \"still in conversation\" nos dice que $V \\rightarrow v$"
   ],
   "metadata": {
    "collapsed": false
   },
   "id": "a23ce158a6ff6397"
  },
  {
   "cell_type": "code",
   "execution_count": 32,
   "outputs": [
    {
     "name": "stdout",
     "output_type": "stream",
     "text": [
      "theunitedstateswasatpeacewiththatnationandatthesolicitationo..apanwasstillinconversationwithitsgovernmentanditsemperorlookingtowardthemaintenanceo.peaceinthepaci.icindeedonehoura.ter.apaneseairs.uadronshadcommenced.om.inginoahuthe.apaneseam.assadortotheunitedstatesandhiscolleaguedeliveredtothesecretar.o.statea.ormalrepl.toarecentamericanmessagewhilethisrepl.statedthatitseemeduselesstocontinuetheexistingdiplomaticnegotiationsitcontainednothreatorhinto.warorarmedattack\n"
     ]
    }
   ],
   "source": [
    "# Definir un diccionario con las letras reemplazadas\n",
    "reemplazos = {\n",
    "    'G': 't',\n",
    "    'B': 'h',\n",
    "    'S': 'e',\n",
    "    'K': 'a',\n",
    "    'C': 'i',\n",
    "    'E': 'o',\n",
    "    'U': 'n',\n",
    "    'Q': 's',\n",
    "    'X': 'u',\n",
    "    'Z': 'd',\n",
    "    'A': 'c',\n",
    "    'O': 'g',\n",
    "    'D': 'k',\n",
    "    'L': 'p',\n",
    "    'I': 'l',\n",
    "    'N': 'm',\n",
    "    'J': 'x',\n",
    "    'P': 'w',\n",
    "    'H': 'r',\n",
    "    'V': 'v'\n",
    "}\n",
    "\n",
    "# Reemplazar las letras en el texto cifrado\n",
    "texto_cifrado_reemplazado = ''.join([reemplazos[letra] if letra in reemplazos else '.' for letra in texto_cifrado])\n",
    "\n",
    "# Imprimir como se ve el texto cifrado reemplazado\n",
    "print(texto_cifrado_reemplazado)"
   ],
   "metadata": {
    "collapsed": false,
    "ExecuteTime": {
     "end_time": "2024-12-02T03:37:42.602450800Z",
     "start_time": "2024-12-02T03:37:42.594106300Z"
    }
   },
   "id": "9e4e2ca17d662598"
  },
  {
   "cell_type": "markdown",
   "source": [
    "Frase \"this reply\" nos dice que $M \\rightarrow y$"
   ],
   "metadata": {
    "collapsed": false
   },
   "id": "5f47f5bdefcddad2"
  },
  {
   "cell_type": "code",
   "execution_count": 33,
   "outputs": [
    {
     "name": "stdout",
     "output_type": "stream",
     "text": [
      "theunitedstateswasatpeacewiththatnationandatthesolicitationo..apanwasstillinconversationwithitsgovernmentanditsemperorlookingtowardthemaintenanceo.peaceinthepaci.icindeedonehoura.ter.apaneseairs.uadronshadcommenced.om.inginoahuthe.apaneseam.assadortotheunitedstatesandhiscolleaguedeliveredtothesecretaryo.statea.ormalreplytoarecentamericanmessagewhilethisreplystatedthatitseemeduselesstocontinuetheexistingdiplomaticnegotiationsitcontainednothreatorhinto.warorarmedattack\n"
     ]
    }
   ],
   "source": [
    "# Definir un diccionario con las letras reemplazadas\n",
    "reemplazos = {\n",
    "    'G': 't',\n",
    "    'B': 'h',\n",
    "    'S': 'e',\n",
    "    'K': 'a',\n",
    "    'C': 'i',\n",
    "    'E': 'o',\n",
    "    'U': 'n',\n",
    "    'Q': 's',\n",
    "    'X': 'u',\n",
    "    'Z': 'd',\n",
    "    'A': 'c',\n",
    "    'O': 'g',\n",
    "    'D': 'k',\n",
    "    'L': 'p',\n",
    "    'I': 'l',\n",
    "    'N': 'm',\n",
    "    'J': 'x',\n",
    "    'P': 'w',\n",
    "    'H': 'r',\n",
    "    'V': 'v',\n",
    "    'M': 'y'\n",
    "}\n",
    "\n",
    "# Reemplazar las letras en el texto cifrado\n",
    "texto_cifrado_reemplazado = ''.join([reemplazos[letra] if letra in reemplazos else '.' for letra in texto_cifrado])\n",
    "\n",
    "# Imprimir como se ve el texto cifrado reemplazado\n",
    "print(texto_cifrado_reemplazado)"
   ],
   "metadata": {
    "collapsed": false,
    "ExecuteTime": {
     "end_time": "2024-12-02T03:37:47.031704500Z",
     "start_time": "2024-12-02T03:37:47.015339700Z"
    }
   },
   "id": "abdac062fb0a56e6"
  },
  {
   "cell_type": "markdown",
   "source": [
    "Conector \"of\" nos dice que $F \\rightarrow f$"
   ],
   "metadata": {
    "collapsed": false
   },
   "id": "8d0f82bd1a07d2de"
  },
  {
   "cell_type": "code",
   "execution_count": 34,
   "outputs": [
    {
     "name": "stdout",
     "output_type": "stream",
     "text": [
      "theunitedstateswasatpeacewiththatnationandatthesolicitationof.apanwasstillinconversationwithitsgovernmentanditsemperorlookingtowardthemaintenanceofpeaceinthepacificindeedonehourafter.apaneseairs.uadronshadcommenced.om.inginoahuthe.apaneseam.assadortotheunitedstatesandhiscolleaguedeliveredtothesecretaryofstateaformalreplytoarecentamericanmessagewhilethisreplystatedthatitseemeduselesstocontinuetheexistingdiplomaticnegotiationsitcontainednothreatorhintofwarorarmedattack\n"
     ]
    }
   ],
   "source": [
    "# Definir un diccionario con las letras reemplazadas\n",
    "reemplazos = {\n",
    "    'G': 't',\n",
    "    'B': 'h',\n",
    "    'S': 'e',\n",
    "    'K': 'a',\n",
    "    'C': 'i',\n",
    "    'E': 'o',\n",
    "    'U': 'n',\n",
    "    'Q': 's',\n",
    "    'X': 'u',\n",
    "    'Z': 'd',\n",
    "    'A': 'c',\n",
    "    'O': 'g',\n",
    "    'D': 'k',\n",
    "    'L': 'p',\n",
    "    'I': 'l',\n",
    "    'N': 'm',\n",
    "    'J': 'x',\n",
    "    'P': 'w',\n",
    "    'H': 'r',\n",
    "    'V': 'v',\n",
    "    'M': 'y',\n",
    "    'R': 'f'\n",
    "}\n",
    "\n",
    "# Reemplazar las letras en el texto cifrado\n",
    "texto_cifrado_reemplazado = ''.join([reemplazos[letra] if letra in reemplazos else '.' for letra in texto_cifrado])\n",
    "\n",
    "# Imprimir como se ve el texto cifrado reemplazado\n",
    "print(texto_cifrado_reemplazado)"
   ],
   "metadata": {
    "collapsed": false,
    "ExecuteTime": {
     "end_time": "2024-12-02T03:37:51.277886Z",
     "start_time": "2024-12-02T03:37:51.270352700Z"
    }
   },
   "id": "d30540a20cfd2021"
  },
  {
   "cell_type": "markdown",
   "source": [],
   "metadata": {
    "collapsed": false
   },
   "id": "c5523728fa044478"
  },
  {
   "cell_type": "markdown",
   "source": [
    "Hay un país que se repite en el mensaje, \"japan\", por lo que $W \\rightarrow p$"
   ],
   "metadata": {
    "collapsed": false
   },
   "id": "ccd1ccddc5bdf4e8"
  },
  {
   "cell_type": "code",
   "execution_count": 35,
   "outputs": [
    {
     "name": "stdout",
     "output_type": "stream",
     "text": [
      "theunitedstateswasatpeacewiththatnationandatthesolicitationofjapanwasstillinconversationwithitsgovernmentanditsemperorlookingtowardthemaintenanceofpeaceinthepacificindeedonehourafterjapaneseairs.uadronshadcommenced.om.inginoahuthejapaneseam.assadortotheunitedstatesandhiscolleaguedeliveredtothesecretaryofstateaformalreplytoarecentamericanmessagewhilethisreplystatedthatitseemeduselesstocontinuetheexistingdiplomaticnegotiationsitcontainednothreatorhintofwarorarmedattack\n"
     ]
    }
   ],
   "source": [
    "# Definir un diccionario con las letras reemplazadas\n",
    "reemplazos = {\n",
    "    'G': 't',\n",
    "    'B': 'h',\n",
    "    'S': 'e',\n",
    "    'K': 'a',\n",
    "    'C': 'i',\n",
    "    'E': 'o',\n",
    "    'U': 'n',\n",
    "    'Q': 's',\n",
    "    'X': 'u',\n",
    "    'Z': 'd',\n",
    "    'A': 'c',\n",
    "    'O': 'g',\n",
    "    'D': 'k',\n",
    "    'L': 'p',\n",
    "    'I': 'l',\n",
    "    'N': 'm',\n",
    "    'J': 'x',\n",
    "    'P': 'w',\n",
    "    'H': 'r',\n",
    "    'V': 'v',\n",
    "    'M': 'y',\n",
    "    'R': 'f',\n",
    "    'W': 'j'\n",
    "}\n",
    "\n",
    "# Reemplazar las letras en el texto cifrado\n",
    "texto_cifrado_reemplazado = ''.join([reemplazos[letra] if letra in reemplazos else '.' for letra in texto_cifrado])\n",
    "\n",
    "# Imprimir como se ve el texto cifrado reemplazado\n",
    "print(texto_cifrado_reemplazado)"
   ],
   "metadata": {
    "collapsed": false,
    "ExecuteTime": {
     "end_time": "2024-12-02T03:39:06.496951800Z",
     "start_time": "2024-12-02T03:39:06.489023100Z"
    }
   },
   "id": "757a33207fa8120"
  },
  {
   "cell_type": "markdown",
   "source": [
    "Palabras \"bombing\", \"ambassador\" y \"squadrons\" finalizan nuestra desencripción, diciendonos que $F \\rightarrow b$, $T \\rightarrow q$"
   ],
   "metadata": {
    "collapsed": false
   },
   "id": "f3d91596c09e8638"
  },
  {
   "cell_type": "code",
   "execution_count": 36,
   "outputs": [
    {
     "name": "stdout",
     "output_type": "stream",
     "text": [
      "theunitedstateswasatpeacewiththatnationandatthesolicitationofjapanwasstillinconversationwithitsgovernmentanditsemperorlookingtowardthemaintenanceofpeaceinthepacificindeedonehourafterjapaneseairsquadronshadcommencedbombinginoahuthejapaneseambassadortotheunitedstatesandhiscolleaguedeliveredtothesecretaryofstateaformalreplytoarecentamericanmessagewhilethisreplystatedthatitseemeduselesstocontinuetheexistingdiplomaticnegotiationsitcontainednothreatorhintofwarorarmedattack\n"
     ]
    }
   ],
   "source": [
    "# Definir un diccionario con las letras reemplazadas\n",
    "reemplazos = {\n",
    "    'G': 't',\n",
    "    'B': 'h',\n",
    "    'S': 'e',\n",
    "    'K': 'a',\n",
    "    'C': 'i',\n",
    "    'E': 'o',\n",
    "    'U': 'n',\n",
    "    'Q': 's',\n",
    "    'X': 'u',\n",
    "    'Z': 'd',\n",
    "    'A': 'c',\n",
    "    'O': 'g',\n",
    "    'D': 'k',\n",
    "    'L': 'p',\n",
    "    'I': 'l',\n",
    "    'N': 'm',\n",
    "    'J': 'x',\n",
    "    'P': 'w',\n",
    "    'H': 'r',\n",
    "    'V': 'v',\n",
    "    'M': 'y',\n",
    "    'R': 'f',\n",
    "    'W': 'j',\n",
    "    'F': 'b',\n",
    "    'T': 'q'\n",
    "}\n",
    "\n",
    "# Reemplazar las letras en el texto cifrado\n",
    "texto_cifrado_reemplazado = ''.join([reemplazos[letra] if letra in reemplazos else '.' for letra in texto_cifrado])\n",
    "\n",
    "# Imprimir como se ve el texto cifrado reemplazado\n",
    "print(texto_cifrado_reemplazado)"
   ],
   "metadata": {
    "collapsed": false,
    "ExecuteTime": {
     "end_time": "2024-12-02T03:40:24.528652800Z",
     "start_time": "2024-12-02T03:40:24.521304800Z"
    }
   },
   "id": "c3623c5ca900d821"
  },
  {
   "cell_type": "markdown",
   "source": [
    "## Conclusión\n",
    "Podemos ver que el texto plano obtenido tiene sentido, por lo que este es:\n",
    "\n",
    "the united states was at peace with that nation and at the solicitation of japan was still in conversation with its government and its emperor looking toward the maintenance of peace in the pacific indeed one hour after japanese air squadrons had commenced bombing in oahu the japanese ambassador to the united states and his colleague delivered to the secretary of state a formal reply to are cent american message while this reply stated that it seemed useless to continue the existing diplomatic negotiations it contained no threat or hint of war or armed attack\n",
    "\n"
   ],
   "metadata": {
    "collapsed": false
   },
   "id": "b4a90c05ca5d7fdc"
  }
 ],
 "metadata": {
  "kernelspec": {
   "display_name": "Python 3",
   "language": "python",
   "name": "python3"
  },
  "language_info": {
   "codemirror_mode": {
    "name": "ipython",
    "version": 2
   },
   "file_extension": ".py",
   "mimetype": "text/x-python",
   "name": "python",
   "nbconvert_exporter": "python",
   "pygments_lexer": "ipython2",
   "version": "2.7.6"
  }
 },
 "nbformat": 4,
 "nbformat_minor": 5
}
